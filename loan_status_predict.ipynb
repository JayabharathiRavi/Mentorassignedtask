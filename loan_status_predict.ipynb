{
  "cells": [
    {
      "cell_type": "markdown",
      "metadata": {
        "id": "view-in-github",
        "colab_type": "text"
      },
      "source": [
        "<a href=\"https://colab.research.google.com/github/JayabharathiRavi/Mentorassignedtask/blob/main/loan_status_predict.ipynb\" target=\"_parent\"><img src=\"https://colab.research.google.com/assets/colab-badge.svg\" alt=\"Open In Colab\"/></a>"
      ]
    },
    {
      "cell_type": "code",
      "source": [
        ""
      ],
      "metadata": {
        "id": "fjXN89fHWEEr"
      },
      "id": "fjXN89fHWEEr",
      "execution_count": null,
      "outputs": []
    },
    {
      "cell_type": "raw",
      "id": "44856543",
      "metadata": {
        "id": "44856543"
      },
      "source": [
        "## **Classification model:**\n",
        "\n",
        "***a. Loan Status Prediction:***\n",
        "\n",
        "i. This is a Property Loan Status Prediction dataset, we have the data of\n",
        "applicants who had previously applied for the loan based on the property and\n",
        "applicant-based metrics.\n",
        "\n",
        "ii. The bank will decide whether to give a loan to the applicant based on some\n",
        "\n",
        "factors such as Applicant Income, Loan Amount, previous Credit History, Co-\n",
        "applicant Income, etc.\n",
        "\n",
        "iii. The objective is to build a Machine Learning Model to predict the loan to be\n",
        "approved or to be rejected for an applicant.\n",
        "iv. You are free to use any classification model such Logistic Regression, Decision\n",
        "Tree, RF or XGBoost.\n",
        "\n",
        "    Here, i took Logistic Regression to build a model"
      ]
    },
    {
      "cell_type": "code",
      "execution_count": null,
      "id": "a6f186ba",
      "metadata": {
        "id": "a6f186ba"
      },
      "outputs": [],
      "source": [
        "import pandas as pd\n",
        "import numpy as np\n",
        "import matplotlib.pyplot as plt\n",
        "import seaborn as sns\n",
        "\n",
        "from sklearn.model_selection import train_test_split\n",
        "from sklearn.linear_model import LogisticRegression\n",
        "from sklearn import metrics\n",
        "\n",
        "from sklearn.metrics import plot_roc_curve, roc_curve, roc_auc_score, confusion_matrix, f1_score\n"
      ]
    },
    {
      "cell_type": "code",
      "execution_count": null,
      "id": "33619cdf",
      "metadata": {
        "id": "33619cdf"
      },
      "outputs": [],
      "source": [
        "x_train=pd.read_csv(\"C:\\\\Users\\\\Parth\\\\Downloads\\\\loan_train.csv\")\n",
        "x_test=pd.read_csv('C:\\\\Users\\\\Parth\\\\Downloads\\\\loan_test.csv')"
      ]
    },
    {
      "cell_type": "code",
      "execution_count": null,
      "id": "086a3bea",
      "metadata": {
        "id": "086a3bea",
        "outputId": "4aeb77ca-5c7c-41a1-c914-477df9629a90"
      },
      "outputs": [
        {
          "data": {
            "text/html": [
              "<div>\n",
              "<style scoped>\n",
              "    .dataframe tbody tr th:only-of-type {\n",
              "        vertical-align: middle;\n",
              "    }\n",
              "\n",
              "    .dataframe tbody tr th {\n",
              "        vertical-align: top;\n",
              "    }\n",
              "\n",
              "    .dataframe thead th {\n",
              "        text-align: right;\n",
              "    }\n",
              "</style>\n",
              "<table border=\"1\" class=\"dataframe\">\n",
              "  <thead>\n",
              "    <tr style=\"text-align: right;\">\n",
              "      <th></th>\n",
              "      <th>Loan_ID</th>\n",
              "      <th>Gender</th>\n",
              "      <th>Married</th>\n",
              "      <th>Dependents</th>\n",
              "      <th>Education</th>\n",
              "      <th>Self_Employed</th>\n",
              "      <th>ApplicantIncome</th>\n",
              "      <th>CoapplicantIncome</th>\n",
              "      <th>LoanAmount</th>\n",
              "      <th>Loan_Amount_Term</th>\n",
              "      <th>Credit_History</th>\n",
              "      <th>Property_Area</th>\n",
              "      <th>Loan_Status</th>\n",
              "    </tr>\n",
              "  </thead>\n",
              "  <tbody>\n",
              "    <tr>\n",
              "      <th>0</th>\n",
              "      <td>LP001002</td>\n",
              "      <td>Male</td>\n",
              "      <td>No</td>\n",
              "      <td>0</td>\n",
              "      <td>Graduate</td>\n",
              "      <td>No</td>\n",
              "      <td>5849</td>\n",
              "      <td>0.0</td>\n",
              "      <td>NaN</td>\n",
              "      <td>360.0</td>\n",
              "      <td>1.0</td>\n",
              "      <td>Urban</td>\n",
              "      <td>Y</td>\n",
              "    </tr>\n",
              "    <tr>\n",
              "      <th>1</th>\n",
              "      <td>LP001003</td>\n",
              "      <td>Male</td>\n",
              "      <td>Yes</td>\n",
              "      <td>1</td>\n",
              "      <td>Graduate</td>\n",
              "      <td>No</td>\n",
              "      <td>4583</td>\n",
              "      <td>1508.0</td>\n",
              "      <td>128.0</td>\n",
              "      <td>360.0</td>\n",
              "      <td>1.0</td>\n",
              "      <td>Rural</td>\n",
              "      <td>N</td>\n",
              "    </tr>\n",
              "    <tr>\n",
              "      <th>2</th>\n",
              "      <td>LP001005</td>\n",
              "      <td>Male</td>\n",
              "      <td>Yes</td>\n",
              "      <td>0</td>\n",
              "      <td>Graduate</td>\n",
              "      <td>Yes</td>\n",
              "      <td>3000</td>\n",
              "      <td>0.0</td>\n",
              "      <td>66.0</td>\n",
              "      <td>360.0</td>\n",
              "      <td>1.0</td>\n",
              "      <td>Urban</td>\n",
              "      <td>Y</td>\n",
              "    </tr>\n",
              "    <tr>\n",
              "      <th>3</th>\n",
              "      <td>LP001006</td>\n",
              "      <td>Male</td>\n",
              "      <td>Yes</td>\n",
              "      <td>0</td>\n",
              "      <td>Not Graduate</td>\n",
              "      <td>No</td>\n",
              "      <td>2583</td>\n",
              "      <td>2358.0</td>\n",
              "      <td>120.0</td>\n",
              "      <td>360.0</td>\n",
              "      <td>1.0</td>\n",
              "      <td>Urban</td>\n",
              "      <td>Y</td>\n",
              "    </tr>\n",
              "    <tr>\n",
              "      <th>4</th>\n",
              "      <td>LP001008</td>\n",
              "      <td>Male</td>\n",
              "      <td>No</td>\n",
              "      <td>0</td>\n",
              "      <td>Graduate</td>\n",
              "      <td>No</td>\n",
              "      <td>6000</td>\n",
              "      <td>0.0</td>\n",
              "      <td>141.0</td>\n",
              "      <td>360.0</td>\n",
              "      <td>1.0</td>\n",
              "      <td>Urban</td>\n",
              "      <td>Y</td>\n",
              "    </tr>\n",
              "  </tbody>\n",
              "</table>\n",
              "</div>"
            ],
            "text/plain": [
              "    Loan_ID Gender Married Dependents     Education Self_Employed  \\\n",
              "0  LP001002   Male      No          0      Graduate            No   \n",
              "1  LP001003   Male     Yes          1      Graduate            No   \n",
              "2  LP001005   Male     Yes          0      Graduate           Yes   \n",
              "3  LP001006   Male     Yes          0  Not Graduate            No   \n",
              "4  LP001008   Male      No          0      Graduate            No   \n",
              "\n",
              "   ApplicantIncome  CoapplicantIncome  LoanAmount  Loan_Amount_Term  \\\n",
              "0             5849                0.0         NaN             360.0   \n",
              "1             4583             1508.0       128.0             360.0   \n",
              "2             3000                0.0        66.0             360.0   \n",
              "3             2583             2358.0       120.0             360.0   \n",
              "4             6000                0.0       141.0             360.0   \n",
              "\n",
              "   Credit_History Property_Area Loan_Status  \n",
              "0             1.0         Urban           Y  \n",
              "1             1.0         Rural           N  \n",
              "2             1.0         Urban           Y  \n",
              "3             1.0         Urban           Y  \n",
              "4             1.0         Urban           Y  "
            ]
          },
          "execution_count": 3,
          "metadata": {},
          "output_type": "execute_result"
        }
      ],
      "source": [
        "x_train.head()"
      ]
    },
    {
      "cell_type": "code",
      "execution_count": null,
      "id": "dba7060a",
      "metadata": {
        "id": "dba7060a",
        "outputId": "9c1d6b96-55c6-4352-be3e-c5476e04a479"
      },
      "outputs": [
        {
          "data": {
            "text/html": [
              "<div>\n",
              "<style scoped>\n",
              "    .dataframe tbody tr th:only-of-type {\n",
              "        vertical-align: middle;\n",
              "    }\n",
              "\n",
              "    .dataframe tbody tr th {\n",
              "        vertical-align: top;\n",
              "    }\n",
              "\n",
              "    .dataframe thead th {\n",
              "        text-align: right;\n",
              "    }\n",
              "</style>\n",
              "<table border=\"1\" class=\"dataframe\">\n",
              "  <thead>\n",
              "    <tr style=\"text-align: right;\">\n",
              "      <th></th>\n",
              "      <th>Loan_ID</th>\n",
              "      <th>Gender</th>\n",
              "      <th>Married</th>\n",
              "      <th>Dependents</th>\n",
              "      <th>Education</th>\n",
              "      <th>Self_Employed</th>\n",
              "      <th>ApplicantIncome</th>\n",
              "      <th>CoapplicantIncome</th>\n",
              "      <th>LoanAmount</th>\n",
              "      <th>Loan_Amount_Term</th>\n",
              "      <th>Credit_History</th>\n",
              "      <th>Property_Area</th>\n",
              "    </tr>\n",
              "  </thead>\n",
              "  <tbody>\n",
              "    <tr>\n",
              "      <th>0</th>\n",
              "      <td>LP001015</td>\n",
              "      <td>Male</td>\n",
              "      <td>Yes</td>\n",
              "      <td>0</td>\n",
              "      <td>Graduate</td>\n",
              "      <td>No</td>\n",
              "      <td>5720</td>\n",
              "      <td>0</td>\n",
              "      <td>110.0</td>\n",
              "      <td>360.0</td>\n",
              "      <td>1.0</td>\n",
              "      <td>Urban</td>\n",
              "    </tr>\n",
              "    <tr>\n",
              "      <th>1</th>\n",
              "      <td>LP001022</td>\n",
              "      <td>Male</td>\n",
              "      <td>Yes</td>\n",
              "      <td>1</td>\n",
              "      <td>Graduate</td>\n",
              "      <td>No</td>\n",
              "      <td>3076</td>\n",
              "      <td>1500</td>\n",
              "      <td>126.0</td>\n",
              "      <td>360.0</td>\n",
              "      <td>1.0</td>\n",
              "      <td>Urban</td>\n",
              "    </tr>\n",
              "    <tr>\n",
              "      <th>2</th>\n",
              "      <td>LP001031</td>\n",
              "      <td>Male</td>\n",
              "      <td>Yes</td>\n",
              "      <td>2</td>\n",
              "      <td>Graduate</td>\n",
              "      <td>No</td>\n",
              "      <td>5000</td>\n",
              "      <td>1800</td>\n",
              "      <td>208.0</td>\n",
              "      <td>360.0</td>\n",
              "      <td>1.0</td>\n",
              "      <td>Urban</td>\n",
              "    </tr>\n",
              "    <tr>\n",
              "      <th>3</th>\n",
              "      <td>LP001035</td>\n",
              "      <td>Male</td>\n",
              "      <td>Yes</td>\n",
              "      <td>2</td>\n",
              "      <td>Graduate</td>\n",
              "      <td>No</td>\n",
              "      <td>2340</td>\n",
              "      <td>2546</td>\n",
              "      <td>100.0</td>\n",
              "      <td>360.0</td>\n",
              "      <td>NaN</td>\n",
              "      <td>Urban</td>\n",
              "    </tr>\n",
              "    <tr>\n",
              "      <th>4</th>\n",
              "      <td>LP001051</td>\n",
              "      <td>Male</td>\n",
              "      <td>No</td>\n",
              "      <td>0</td>\n",
              "      <td>Not Graduate</td>\n",
              "      <td>No</td>\n",
              "      <td>3276</td>\n",
              "      <td>0</td>\n",
              "      <td>78.0</td>\n",
              "      <td>360.0</td>\n",
              "      <td>1.0</td>\n",
              "      <td>Urban</td>\n",
              "    </tr>\n",
              "  </tbody>\n",
              "</table>\n",
              "</div>"
            ],
            "text/plain": [
              "    Loan_ID Gender Married Dependents     Education Self_Employed  \\\n",
              "0  LP001015   Male     Yes          0      Graduate            No   \n",
              "1  LP001022   Male     Yes          1      Graduate            No   \n",
              "2  LP001031   Male     Yes          2      Graduate            No   \n",
              "3  LP001035   Male     Yes          2      Graduate            No   \n",
              "4  LP001051   Male      No          0  Not Graduate            No   \n",
              "\n",
              "   ApplicantIncome  CoapplicantIncome  LoanAmount  Loan_Amount_Term  \\\n",
              "0             5720                  0       110.0             360.0   \n",
              "1             3076               1500       126.0             360.0   \n",
              "2             5000               1800       208.0             360.0   \n",
              "3             2340               2546       100.0             360.0   \n",
              "4             3276                  0        78.0             360.0   \n",
              "\n",
              "   Credit_History Property_Area  \n",
              "0             1.0         Urban  \n",
              "1             1.0         Urban  \n",
              "2             1.0         Urban  \n",
              "3             NaN         Urban  \n",
              "4             1.0         Urban  "
            ]
          },
          "execution_count": 4,
          "metadata": {},
          "output_type": "execute_result"
        }
      ],
      "source": [
        "x_test.head()"
      ]
    },
    {
      "cell_type": "code",
      "execution_count": null,
      "id": "04e4174b",
      "metadata": {
        "id": "04e4174b",
        "outputId": "6a3c89e4-2a03-476a-c9aa-4267d0bca722"
      },
      "outputs": [
        {
          "data": {
            "text/plain": [
              "Index(['Loan_ID', 'Gender', 'Married', 'Dependents', 'Education',\n",
              "       'Self_Employed', 'ApplicantIncome', 'CoapplicantIncome', 'LoanAmount',\n",
              "       'Loan_Amount_Term', 'Credit_History', 'Property_Area', 'Loan_Status'],\n",
              "      dtype='object')"
            ]
          },
          "execution_count": 5,
          "metadata": {},
          "output_type": "execute_result"
        }
      ],
      "source": [
        "x_train.columns"
      ]
    },
    {
      "cell_type": "code",
      "execution_count": null,
      "id": "b5869cb1",
      "metadata": {
        "id": "b5869cb1",
        "outputId": "b2dd4e91-9d8b-44e8-ccb6-38be20282575"
      },
      "outputs": [
        {
          "data": {
            "text/html": [
              "<div>\n",
              "<style scoped>\n",
              "    .dataframe tbody tr th:only-of-type {\n",
              "        vertical-align: middle;\n",
              "    }\n",
              "\n",
              "    .dataframe tbody tr th {\n",
              "        vertical-align: top;\n",
              "    }\n",
              "\n",
              "    .dataframe thead th {\n",
              "        text-align: right;\n",
              "    }\n",
              "</style>\n",
              "<table border=\"1\" class=\"dataframe\">\n",
              "  <thead>\n",
              "    <tr style=\"text-align: right;\">\n",
              "      <th></th>\n",
              "      <th>ApplicantIncome</th>\n",
              "      <th>CoapplicantIncome</th>\n",
              "      <th>LoanAmount</th>\n",
              "      <th>Loan_Amount_Term</th>\n",
              "      <th>Credit_History</th>\n",
              "    </tr>\n",
              "  </thead>\n",
              "  <tbody>\n",
              "    <tr>\n",
              "      <th>count</th>\n",
              "      <td>614.000000</td>\n",
              "      <td>614.000000</td>\n",
              "      <td>592.000000</td>\n",
              "      <td>600.00000</td>\n",
              "      <td>564.000000</td>\n",
              "    </tr>\n",
              "    <tr>\n",
              "      <th>mean</th>\n",
              "      <td>5403.459283</td>\n",
              "      <td>1621.245798</td>\n",
              "      <td>146.412162</td>\n",
              "      <td>342.00000</td>\n",
              "      <td>0.842199</td>\n",
              "    </tr>\n",
              "    <tr>\n",
              "      <th>std</th>\n",
              "      <td>6109.041673</td>\n",
              "      <td>2926.248369</td>\n",
              "      <td>85.587325</td>\n",
              "      <td>65.12041</td>\n",
              "      <td>0.364878</td>\n",
              "    </tr>\n",
              "    <tr>\n",
              "      <th>min</th>\n",
              "      <td>150.000000</td>\n",
              "      <td>0.000000</td>\n",
              "      <td>9.000000</td>\n",
              "      <td>12.00000</td>\n",
              "      <td>0.000000</td>\n",
              "    </tr>\n",
              "    <tr>\n",
              "      <th>25%</th>\n",
              "      <td>2877.500000</td>\n",
              "      <td>0.000000</td>\n",
              "      <td>100.000000</td>\n",
              "      <td>360.00000</td>\n",
              "      <td>1.000000</td>\n",
              "    </tr>\n",
              "    <tr>\n",
              "      <th>50%</th>\n",
              "      <td>3812.500000</td>\n",
              "      <td>1188.500000</td>\n",
              "      <td>128.000000</td>\n",
              "      <td>360.00000</td>\n",
              "      <td>1.000000</td>\n",
              "    </tr>\n",
              "    <tr>\n",
              "      <th>75%</th>\n",
              "      <td>5795.000000</td>\n",
              "      <td>2297.250000</td>\n",
              "      <td>168.000000</td>\n",
              "      <td>360.00000</td>\n",
              "      <td>1.000000</td>\n",
              "    </tr>\n",
              "    <tr>\n",
              "      <th>max</th>\n",
              "      <td>81000.000000</td>\n",
              "      <td>41667.000000</td>\n",
              "      <td>700.000000</td>\n",
              "      <td>480.00000</td>\n",
              "      <td>1.000000</td>\n",
              "    </tr>\n",
              "  </tbody>\n",
              "</table>\n",
              "</div>"
            ],
            "text/plain": [
              "       ApplicantIncome  CoapplicantIncome  LoanAmount  Loan_Amount_Term  \\\n",
              "count       614.000000         614.000000  592.000000         600.00000   \n",
              "mean       5403.459283        1621.245798  146.412162         342.00000   \n",
              "std        6109.041673        2926.248369   85.587325          65.12041   \n",
              "min         150.000000           0.000000    9.000000          12.00000   \n",
              "25%        2877.500000           0.000000  100.000000         360.00000   \n",
              "50%        3812.500000        1188.500000  128.000000         360.00000   \n",
              "75%        5795.000000        2297.250000  168.000000         360.00000   \n",
              "max       81000.000000       41667.000000  700.000000         480.00000   \n",
              "\n",
              "       Credit_History  \n",
              "count      564.000000  \n",
              "mean         0.842199  \n",
              "std          0.364878  \n",
              "min          0.000000  \n",
              "25%          1.000000  \n",
              "50%          1.000000  \n",
              "75%          1.000000  \n",
              "max          1.000000  "
            ]
          },
          "execution_count": 6,
          "metadata": {},
          "output_type": "execute_result"
        }
      ],
      "source": [
        "x_train.describe()"
      ]
    },
    {
      "cell_type": "code",
      "execution_count": null,
      "id": "df893736",
      "metadata": {
        "id": "df893736",
        "outputId": "ad28e968-7e73-4285-f8d3-1924b0bb489c"
      },
      "outputs": [
        {
          "data": {
            "text/html": [
              "<div>\n",
              "<style scoped>\n",
              "    .dataframe tbody tr th:only-of-type {\n",
              "        vertical-align: middle;\n",
              "    }\n",
              "\n",
              "    .dataframe tbody tr th {\n",
              "        vertical-align: top;\n",
              "    }\n",
              "\n",
              "    .dataframe thead th {\n",
              "        text-align: right;\n",
              "    }\n",
              "</style>\n",
              "<table border=\"1\" class=\"dataframe\">\n",
              "  <thead>\n",
              "    <tr style=\"text-align: right;\">\n",
              "      <th></th>\n",
              "      <th>ApplicantIncome</th>\n",
              "      <th>CoapplicantIncome</th>\n",
              "      <th>LoanAmount</th>\n",
              "      <th>Loan_Amount_Term</th>\n",
              "      <th>Credit_History</th>\n",
              "    </tr>\n",
              "  </thead>\n",
              "  <tbody>\n",
              "    <tr>\n",
              "      <th>count</th>\n",
              "      <td>367.000000</td>\n",
              "      <td>367.000000</td>\n",
              "      <td>362.000000</td>\n",
              "      <td>361.000000</td>\n",
              "      <td>338.000000</td>\n",
              "    </tr>\n",
              "    <tr>\n",
              "      <th>mean</th>\n",
              "      <td>4805.599455</td>\n",
              "      <td>1569.577657</td>\n",
              "      <td>136.132597</td>\n",
              "      <td>342.537396</td>\n",
              "      <td>0.825444</td>\n",
              "    </tr>\n",
              "    <tr>\n",
              "      <th>std</th>\n",
              "      <td>4910.685399</td>\n",
              "      <td>2334.232099</td>\n",
              "      <td>61.366652</td>\n",
              "      <td>65.156643</td>\n",
              "      <td>0.380150</td>\n",
              "    </tr>\n",
              "    <tr>\n",
              "      <th>min</th>\n",
              "      <td>0.000000</td>\n",
              "      <td>0.000000</td>\n",
              "      <td>28.000000</td>\n",
              "      <td>6.000000</td>\n",
              "      <td>0.000000</td>\n",
              "    </tr>\n",
              "    <tr>\n",
              "      <th>25%</th>\n",
              "      <td>2864.000000</td>\n",
              "      <td>0.000000</td>\n",
              "      <td>100.250000</td>\n",
              "      <td>360.000000</td>\n",
              "      <td>1.000000</td>\n",
              "    </tr>\n",
              "    <tr>\n",
              "      <th>50%</th>\n",
              "      <td>3786.000000</td>\n",
              "      <td>1025.000000</td>\n",
              "      <td>125.000000</td>\n",
              "      <td>360.000000</td>\n",
              "      <td>1.000000</td>\n",
              "    </tr>\n",
              "    <tr>\n",
              "      <th>75%</th>\n",
              "      <td>5060.000000</td>\n",
              "      <td>2430.500000</td>\n",
              "      <td>158.000000</td>\n",
              "      <td>360.000000</td>\n",
              "      <td>1.000000</td>\n",
              "    </tr>\n",
              "    <tr>\n",
              "      <th>max</th>\n",
              "      <td>72529.000000</td>\n",
              "      <td>24000.000000</td>\n",
              "      <td>550.000000</td>\n",
              "      <td>480.000000</td>\n",
              "      <td>1.000000</td>\n",
              "    </tr>\n",
              "  </tbody>\n",
              "</table>\n",
              "</div>"
            ],
            "text/plain": [
              "       ApplicantIncome  CoapplicantIncome  LoanAmount  Loan_Amount_Term  \\\n",
              "count       367.000000         367.000000  362.000000        361.000000   \n",
              "mean       4805.599455        1569.577657  136.132597        342.537396   \n",
              "std        4910.685399        2334.232099   61.366652         65.156643   \n",
              "min           0.000000           0.000000   28.000000          6.000000   \n",
              "25%        2864.000000           0.000000  100.250000        360.000000   \n",
              "50%        3786.000000        1025.000000  125.000000        360.000000   \n",
              "75%        5060.000000        2430.500000  158.000000        360.000000   \n",
              "max       72529.000000       24000.000000  550.000000        480.000000   \n",
              "\n",
              "       Credit_History  \n",
              "count      338.000000  \n",
              "mean         0.825444  \n",
              "std          0.380150  \n",
              "min          0.000000  \n",
              "25%          1.000000  \n",
              "50%          1.000000  \n",
              "75%          1.000000  \n",
              "max          1.000000  "
            ]
          },
          "execution_count": 7,
          "metadata": {},
          "output_type": "execute_result"
        }
      ],
      "source": [
        "x_test.describe()"
      ]
    },
    {
      "cell_type": "raw",
      "id": "975316ca",
      "metadata": {
        "id": "975316ca"
      },
      "source": [
        "Loan_ID is not a feature.so we drop the column.\n",
        "Gender is binary variable feature we encode this with label encoding.\n",
        "Married is also a binary variable feature we encode this with label encoding.\n",
        "Dependents is a multiclass feature.we will decide after EDA part which encode is suitable for this.\n",
        "Education is binary class over here we will go with label encoding.\n",
        "Self_Employed is also a binary class variable will go with label encoding.\n",
        "ApplicantIncome is a continuous variable no encoding is needed.\n",
        "CoapplicantIncome is also a continuous variable no encoding is needed.\n",
        "LoanAmount is also a continuous variable no encoding is needed.\n",
        "Loan_Amount_Term is also a continuous variable no encoding is needed.\n",
        "Credit_History is also a continuous variable no encoding is needed.\n",
        "Property_Area is a multiclass variable. After EDA part will decide lable or onhot.\n",
        "Loan_Status is a binary variable.We will go with lable encoding.\n"
      ]
    },
    {
      "cell_type": "markdown",
      "id": "287d2286",
      "metadata": {
        "id": "287d2286"
      },
      "source": [
        "# CHECKING IS THERE ANY NULL IN DATASETS"
      ]
    },
    {
      "cell_type": "code",
      "execution_count": null,
      "id": "fb8290ff",
      "metadata": {
        "id": "fb8290ff",
        "outputId": "e84708d5-3789-40cc-b34f-12d7f75e6877"
      },
      "outputs": [
        {
          "data": {
            "text/plain": [
              "(614, 13)"
            ]
          },
          "execution_count": 8,
          "metadata": {},
          "output_type": "execute_result"
        }
      ],
      "source": [
        "x_train.isnull().sum()\n",
        "x_train.shape"
      ]
    },
    {
      "cell_type": "raw",
      "id": "b39effba",
      "metadata": {
        "id": "b39effba"
      },
      "source": [
        "we will impute using mode for gender and married.\n",
        "we will immpute using mean for Loanamount and loanamount term.\n",
        "we drop nan from dependents,selfemployed and credit history"
      ]
    },
    {
      "cell_type": "code",
      "execution_count": null,
      "id": "a9ed5fb1",
      "metadata": {
        "id": "a9ed5fb1",
        "outputId": "fb72fa59-6c29-4c41-fd5d-87ab061f1ad5"
      },
      "outputs": [
        {
          "data": {
            "text/plain": [
              "Loan_ID               0\n",
              "Gender               11\n",
              "Married               0\n",
              "Dependents           10\n",
              "Education             0\n",
              "Self_Employed        23\n",
              "ApplicantIncome       0\n",
              "CoapplicantIncome     0\n",
              "LoanAmount            5\n",
              "Loan_Amount_Term      6\n",
              "Credit_History       29\n",
              "Property_Area         0\n",
              "dtype: int64"
            ]
          },
          "execution_count": 9,
          "metadata": {},
          "output_type": "execute_result"
        }
      ],
      "source": [
        "x_test.isnull().sum()"
      ]
    },
    {
      "cell_type": "raw",
      "id": "529e6c1f",
      "metadata": {
        "id": "529e6c1f"
      },
      "source": [
        "we will impute using mode for gender.\n",
        "we will immpute using mean for Loanamount and loanamount term.\n",
        "we drop nan from dependents,selfemployed and credit history"
      ]
    },
    {
      "cell_type": "code",
      "execution_count": null,
      "id": "d683b69e",
      "metadata": {
        "id": "d683b69e"
      },
      "outputs": [],
      "source": [
        ""
      ]
    },
    {
      "cell_type": "markdown",
      "id": "8faca532",
      "metadata": {
        "id": "8faca532"
      },
      "source": [
        "# Loan_ID"
      ]
    },
    {
      "cell_type": "code",
      "execution_count": null,
      "id": "6d0b3c9b",
      "metadata": {
        "id": "6d0b3c9b"
      },
      "outputs": [],
      "source": [
        "x_train=x_train.drop(['Loan_ID'],axis=1)\n",
        "x_test=x_test.drop(['Loan_ID'],axis=1)"
      ]
    },
    {
      "cell_type": "raw",
      "id": "a44d2ca2",
      "metadata": {
        "id": "a44d2ca2"
      },
      "source": [
        "Here, We dropped the loand_id column in both x_train and x_test."
      ]
    },
    {
      "cell_type": "markdown",
      "id": "a3c97535",
      "metadata": {
        "id": "a3c97535"
      },
      "source": [
        "# Gender"
      ]
    },
    {
      "cell_type": "code",
      "execution_count": null,
      "id": "7032de4b",
      "metadata": {
        "id": "7032de4b",
        "outputId": "83f6e7cc-0a33-4535-b0c8-a485442d4cdc"
      },
      "outputs": [
        {
          "data": {
            "text/plain": [
              "(0    Male\n",
              " dtype: object,\n",
              " 0    Male\n",
              " dtype: object)"
            ]
          },
          "execution_count": 11,
          "metadata": {},
          "output_type": "execute_result"
        }
      ],
      "source": [
        "x=x_train['Gender'].mode()\n",
        "y=x_test['Gender'].mode()\n",
        "x,y"
      ]
    },
    {
      "cell_type": "code",
      "execution_count": null,
      "id": "1d037ff8",
      "metadata": {
        "id": "1d037ff8",
        "outputId": "1387e8af-7fa5-4d67-8c7d-30fc70e810e8"
      },
      "outputs": [
        {
          "data": {
            "text/plain": [
              "(array(['Male', 'Female'], dtype=object),\n",
              " array(['Male', 'Female'], dtype=object))"
            ]
          },
          "execution_count": 55,
          "metadata": {},
          "output_type": "execute_result"
        }
      ],
      "source": [
        "x_train['Gender']=x_train['Gender'].fillna('Male')\n",
        "x=x_train['Gender'].unique()\n",
        "x_test['Gender']=x_test['Gender'].fillna('Male')\n",
        "y=x_test['Gender'].unique()\n",
        "x,y"
      ]
    },
    {
      "cell_type": "raw",
      "id": "1cfcabdf",
      "metadata": {
        "id": "1cfcabdf"
      },
      "source": [
        "Here, We imputed gender column in both x_train and x_test."
      ]
    },
    {
      "cell_type": "markdown",
      "id": "e5e77a46",
      "metadata": {
        "id": "e5e77a46"
      },
      "source": [
        "# Married"
      ]
    },
    {
      "cell_type": "code",
      "execution_count": null,
      "id": "b4679e24",
      "metadata": {
        "id": "b4679e24",
        "outputId": "ac65df17-7bb8-48d0-9ce1-802c35e98c2c"
      },
      "outputs": [
        {
          "data": {
            "text/plain": [
              "0    Yes\n",
              "dtype: object"
            ]
          },
          "execution_count": 13,
          "metadata": {},
          "output_type": "execute_result"
        }
      ],
      "source": [
        "x=x_train['Married'].mode()\n",
        "x"
      ]
    },
    {
      "cell_type": "code",
      "execution_count": null,
      "id": "a0aef85e",
      "metadata": {
        "id": "a0aef85e",
        "outputId": "d28b7436-713e-45f9-d6ab-0f300b7850a9"
      },
      "outputs": [
        {
          "data": {
            "text/plain": [
              "array(['No', 'Yes'], dtype=object)"
            ]
          },
          "execution_count": 56,
          "metadata": {},
          "output_type": "execute_result"
        }
      ],
      "source": [
        "x_train['Married']=x_train['Married'].fillna('Yes')\n",
        "x_train['Married'].unique()"
      ]
    },
    {
      "cell_type": "raw",
      "id": "752470d3",
      "metadata": {
        "id": "752470d3"
      },
      "source": [
        "Here, We imputed married column in x_train."
      ]
    },
    {
      "cell_type": "markdown",
      "id": "4e979860",
      "metadata": {
        "id": "4e979860"
      },
      "source": [
        "# LoanAmount"
      ]
    },
    {
      "cell_type": "code",
      "execution_count": null,
      "id": "ae9e21a2",
      "metadata": {
        "id": "ae9e21a2",
        "outputId": "d43e9884-708a-4bee-dcbf-ccb55a3699b7"
      },
      "outputs": [
        {
          "data": {
            "text/plain": [
              "(146.41216216216216, 136.13259668508286)"
            ]
          },
          "execution_count": 57,
          "metadata": {},
          "output_type": "execute_result"
        }
      ],
      "source": [
        "x=x_train['LoanAmount'].mean()\n",
        "y=x_test['LoanAmount'].mean()\n",
        "x,y"
      ]
    },
    {
      "cell_type": "code",
      "execution_count": null,
      "id": "e60c769a",
      "metadata": {
        "id": "e60c769a"
      },
      "outputs": [],
      "source": [
        "x_train['LoanAmount']=x_train['LoanAmount'].fillna(x)\n",
        "x_test['LoanAmount']=x_test['LoanAmount'].fillna(y)"
      ]
    },
    {
      "cell_type": "markdown",
      "id": "1c6a19be",
      "metadata": {
        "id": "1c6a19be"
      },
      "source": [
        "# Loan_Amount_Term      "
      ]
    },
    {
      "cell_type": "code",
      "execution_count": null,
      "id": "4ffbd8e5",
      "metadata": {
        "id": "4ffbd8e5",
        "outputId": "498ee005-c0ab-43dd-949a-37cd3431c4fb"
      },
      "outputs": [
        {
          "data": {
            "text/plain": [
              "(342.0, 342.53739612188366)"
            ]
          },
          "execution_count": 60,
          "metadata": {},
          "output_type": "execute_result"
        }
      ],
      "source": [
        "x=x_train['Loan_Amount_Term'].mean()\n",
        "y=x_test['Loan_Amount_Term'].mean()\n",
        "x,y"
      ]
    },
    {
      "cell_type": "code",
      "execution_count": null,
      "id": "566c0a31",
      "metadata": {
        "id": "566c0a31"
      },
      "outputs": [],
      "source": [
        "x_train['Loan_Amount_Term']=x_train['Loan_Amount_Term'].fillna(x)\n",
        "x_test['Loan_Amount_Term']=x_test['Loan_Amount_Term'].fillna(y)"
      ]
    },
    {
      "cell_type": "code",
      "execution_count": null,
      "id": "606d5df9",
      "metadata": {
        "id": "606d5df9"
      },
      "outputs": [],
      "source": [
        "x_train=x_train.dropna()\n",
        "x_test=x_test.dropna()"
      ]
    },
    {
      "cell_type": "code",
      "execution_count": null,
      "id": "c197fe03",
      "metadata": {
        "id": "c197fe03",
        "outputId": "4b609b64-98dd-4146-dc53-7526d6a7efdd"
      },
      "outputs": [
        {
          "data": {
            "text/plain": [
              "Gender               0\n",
              "Married              0\n",
              "Dependents           0\n",
              "Education            0\n",
              "Self_Employed        0\n",
              "ApplicantIncome      0\n",
              "CoapplicantIncome    0\n",
              "LoanAmount           0\n",
              "Loan_Amount_Term     0\n",
              "Credit_History       0\n",
              "Property_Area        0\n",
              "Loan_Status          0\n",
              "dtype: int64"
            ]
          },
          "execution_count": 63,
          "metadata": {},
          "output_type": "execute_result"
        }
      ],
      "source": [
        "x_train.isnull().sum()"
      ]
    },
    {
      "cell_type": "code",
      "execution_count": null,
      "id": "7e160b87",
      "metadata": {
        "id": "7e160b87",
        "outputId": "b7fd2c72-96b4-403b-8184-9f2328cfa313"
      },
      "outputs": [
        {
          "data": {
            "text/plain": [
              "Gender               0\n",
              "Married              0\n",
              "Dependents           0\n",
              "Education            0\n",
              "Self_Employed        0\n",
              "ApplicantIncome      0\n",
              "CoapplicantIncome    0\n",
              "LoanAmount           0\n",
              "Loan_Amount_Term     0\n",
              "Credit_History       0\n",
              "Property_Area        0\n",
              "dtype: int64"
            ]
          },
          "execution_count": 21,
          "metadata": {},
          "output_type": "execute_result"
        }
      ],
      "source": [
        "x_test.isnull().sum()"
      ]
    },
    {
      "cell_type": "markdown",
      "id": "e91b4be5",
      "metadata": {
        "id": "e91b4be5"
      },
      "source": [
        "# CHECKING IS THERE ANY DUBLICATES"
      ]
    },
    {
      "cell_type": "code",
      "execution_count": null,
      "id": "1aeef4a8",
      "metadata": {
        "id": "1aeef4a8",
        "outputId": "b3b720b6-881e-411c-daf1-7119cd42865d"
      },
      "outputs": [
        {
          "data": {
            "text/plain": [
              "0"
            ]
          },
          "execution_count": 22,
          "metadata": {},
          "output_type": "execute_result"
        }
      ],
      "source": [
        "x_train.duplicated().sum()"
      ]
    },
    {
      "cell_type": "code",
      "execution_count": null,
      "id": "407c661c",
      "metadata": {
        "id": "407c661c",
        "outputId": "8a7b094e-6587-4786-d1a6-f68c1eb1d4ba"
      },
      "outputs": [
        {
          "data": {
            "text/plain": [
              "1"
            ]
          },
          "execution_count": 23,
          "metadata": {},
          "output_type": "execute_result"
        }
      ],
      "source": [
        "x_test.duplicated().sum()"
      ]
    },
    {
      "cell_type": "code",
      "execution_count": null,
      "id": "76bb42ef",
      "metadata": {
        "id": "76bb42ef"
      },
      "outputs": [],
      "source": [
        "x_test=x_test.drop_duplicates()"
      ]
    },
    {
      "cell_type": "code",
      "execution_count": null,
      "id": "a2da3f2c",
      "metadata": {
        "id": "a2da3f2c",
        "outputId": "7b024d62-0dcb-46b8-c3f1-2ec8655de619"
      },
      "outputs": [
        {
          "data": {
            "text/plain": [
              "0"
            ]
          },
          "execution_count": 65,
          "metadata": {},
          "output_type": "execute_result"
        }
      ],
      "source": [
        "x_test.duplicated().sum()"
      ]
    },
    {
      "cell_type": "code",
      "execution_count": null,
      "id": "99e3319f",
      "metadata": {
        "id": "99e3319f"
      },
      "outputs": [],
      "source": [
        ""
      ]
    },
    {
      "cell_type": "markdown",
      "id": "285d4f6c",
      "metadata": {
        "id": "285d4f6c"
      },
      "source": [
        "# CHECKING OUTLIERS"
      ]
    },
    {
      "cell_type": "code",
      "execution_count": null,
      "id": "11bcd391",
      "metadata": {
        "id": "11bcd391",
        "outputId": "fa9b27b5-2704-4a8b-d15e-d09977063b33"
      },
      "outputs": [
        {
          "data": {
            "text/html": [
              "<div>\n",
              "<style scoped>\n",
              "    .dataframe tbody tr th:only-of-type {\n",
              "        vertical-align: middle;\n",
              "    }\n",
              "\n",
              "    .dataframe tbody tr th {\n",
              "        vertical-align: top;\n",
              "    }\n",
              "\n",
              "    .dataframe thead th {\n",
              "        text-align: right;\n",
              "    }\n",
              "</style>\n",
              "<table border=\"1\" class=\"dataframe\">\n",
              "  <thead>\n",
              "    <tr style=\"text-align: right;\">\n",
              "      <th></th>\n",
              "      <th>ApplicantIncome</th>\n",
              "      <th>CoapplicantIncome</th>\n",
              "      <th>LoanAmount</th>\n",
              "      <th>Loan_Amount_Term</th>\n",
              "      <th>Credit_History</th>\n",
              "    </tr>\n",
              "  </thead>\n",
              "  <tbody>\n",
              "    <tr>\n",
              "      <th>count</th>\n",
              "      <td>523.000000</td>\n",
              "      <td>523.000000</td>\n",
              "      <td>523.000000</td>\n",
              "      <td>523.000000</td>\n",
              "      <td>523.000000</td>\n",
              "    </tr>\n",
              "    <tr>\n",
              "      <th>mean</th>\n",
              "      <td>5439.227533</td>\n",
              "      <td>1554.783786</td>\n",
              "      <td>145.789352</td>\n",
              "      <td>341.965583</td>\n",
              "      <td>0.841300</td>\n",
              "    </tr>\n",
              "    <tr>\n",
              "      <th>std</th>\n",
              "      <td>5949.632561</td>\n",
              "      <td>2540.882028</td>\n",
              "      <td>82.047179</td>\n",
              "      <td>63.822482</td>\n",
              "      <td>0.365746</td>\n",
              "    </tr>\n",
              "    <tr>\n",
              "      <th>min</th>\n",
              "      <td>150.000000</td>\n",
              "      <td>0.000000</td>\n",
              "      <td>9.000000</td>\n",
              "      <td>36.000000</td>\n",
              "      <td>0.000000</td>\n",
              "    </tr>\n",
              "    <tr>\n",
              "      <th>25%</th>\n",
              "      <td>2885.500000</td>\n",
              "      <td>0.000000</td>\n",
              "      <td>100.500000</td>\n",
              "      <td>360.000000</td>\n",
              "      <td>1.000000</td>\n",
              "    </tr>\n",
              "    <tr>\n",
              "      <th>50%</th>\n",
              "      <td>3858.000000</td>\n",
              "      <td>1086.000000</td>\n",
              "      <td>130.000000</td>\n",
              "      <td>360.000000</td>\n",
              "      <td>1.000000</td>\n",
              "    </tr>\n",
              "    <tr>\n",
              "      <th>75%</th>\n",
              "      <td>5839.000000</td>\n",
              "      <td>2250.000000</td>\n",
              "      <td>167.500000</td>\n",
              "      <td>360.000000</td>\n",
              "      <td>1.000000</td>\n",
              "    </tr>\n",
              "    <tr>\n",
              "      <th>max</th>\n",
              "      <td>81000.000000</td>\n",
              "      <td>33837.000000</td>\n",
              "      <td>700.000000</td>\n",
              "      <td>480.000000</td>\n",
              "      <td>1.000000</td>\n",
              "    </tr>\n",
              "  </tbody>\n",
              "</table>\n",
              "</div>"
            ],
            "text/plain": [
              "       ApplicantIncome  CoapplicantIncome  LoanAmount  Loan_Amount_Term  \\\n",
              "count       523.000000         523.000000  523.000000        523.000000   \n",
              "mean       5439.227533        1554.783786  145.789352        341.965583   \n",
              "std        5949.632561        2540.882028   82.047179         63.822482   \n",
              "min         150.000000           0.000000    9.000000         36.000000   \n",
              "25%        2885.500000           0.000000  100.500000        360.000000   \n",
              "50%        3858.000000        1086.000000  130.000000        360.000000   \n",
              "75%        5839.000000        2250.000000  167.500000        360.000000   \n",
              "max       81000.000000       33837.000000  700.000000        480.000000   \n",
              "\n",
              "       Credit_History  \n",
              "count      523.000000  \n",
              "mean         0.841300  \n",
              "std          0.365746  \n",
              "min          0.000000  \n",
              "25%          1.000000  \n",
              "50%          1.000000  \n",
              "75%          1.000000  \n",
              "max          1.000000  "
            ]
          },
          "execution_count": 26,
          "metadata": {},
          "output_type": "execute_result"
        }
      ],
      "source": [
        "x_train.describe()"
      ]
    },
    {
      "cell_type": "code",
      "execution_count": null,
      "id": "1cc4ddea",
      "metadata": {
        "id": "1cc4ddea",
        "outputId": "e512540c-b12e-4154-bedd-92f4f53ae1dc"
      },
      "outputs": [
        {
          "data": {
            "text/html": [
              "<div>\n",
              "<style scoped>\n",
              "    .dataframe tbody tr th:only-of-type {\n",
              "        vertical-align: middle;\n",
              "    }\n",
              "\n",
              "    .dataframe tbody tr th {\n",
              "        vertical-align: top;\n",
              "    }\n",
              "\n",
              "    .dataframe thead th {\n",
              "        text-align: right;\n",
              "    }\n",
              "</style>\n",
              "<table border=\"1\" class=\"dataframe\">\n",
              "  <thead>\n",
              "    <tr style=\"text-align: right;\">\n",
              "      <th></th>\n",
              "      <th>ApplicantIncome</th>\n",
              "      <th>CoapplicantIncome</th>\n",
              "      <th>LoanAmount</th>\n",
              "      <th>Loan_Amount_Term</th>\n",
              "      <th>Credit_History</th>\n",
              "    </tr>\n",
              "  </thead>\n",
              "  <tbody>\n",
              "    <tr>\n",
              "      <th>count</th>\n",
              "      <td>307.000000</td>\n",
              "      <td>307.000000</td>\n",
              "      <td>307.000000</td>\n",
              "      <td>307.000000</td>\n",
              "      <td>307.000000</td>\n",
              "    </tr>\n",
              "    <tr>\n",
              "      <th>mean</th>\n",
              "      <td>4707.081433</td>\n",
              "      <td>1555.029316</td>\n",
              "      <td>136.092933</td>\n",
              "      <td>343.207449</td>\n",
              "      <td>0.837134</td>\n",
              "    </tr>\n",
              "    <tr>\n",
              "      <th>std</th>\n",
              "      <td>4914.699219</td>\n",
              "      <td>2339.457035</td>\n",
              "      <td>58.522981</td>\n",
              "      <td>64.928363</td>\n",
              "      <td>0.369847</td>\n",
              "    </tr>\n",
              "    <tr>\n",
              "      <th>min</th>\n",
              "      <td>0.000000</td>\n",
              "      <td>0.000000</td>\n",
              "      <td>28.000000</td>\n",
              "      <td>6.000000</td>\n",
              "      <td>0.000000</td>\n",
              "    </tr>\n",
              "    <tr>\n",
              "      <th>25%</th>\n",
              "      <td>2864.000000</td>\n",
              "      <td>0.000000</td>\n",
              "      <td>102.000000</td>\n",
              "      <td>360.000000</td>\n",
              "      <td>1.000000</td>\n",
              "    </tr>\n",
              "    <tr>\n",
              "      <th>50%</th>\n",
              "      <td>3791.000000</td>\n",
              "      <td>1000.000000</td>\n",
              "      <td>126.000000</td>\n",
              "      <td>360.000000</td>\n",
              "      <td>1.000000</td>\n",
              "    </tr>\n",
              "    <tr>\n",
              "      <th>75%</th>\n",
              "      <td>5020.500000</td>\n",
              "      <td>2430.500000</td>\n",
              "      <td>154.000000</td>\n",
              "      <td>360.000000</td>\n",
              "      <td>1.000000</td>\n",
              "    </tr>\n",
              "    <tr>\n",
              "      <th>max</th>\n",
              "      <td>72529.000000</td>\n",
              "      <td>24000.000000</td>\n",
              "      <td>460.000000</td>\n",
              "      <td>480.000000</td>\n",
              "      <td>1.000000</td>\n",
              "    </tr>\n",
              "  </tbody>\n",
              "</table>\n",
              "</div>"
            ],
            "text/plain": [
              "       ApplicantIncome  CoapplicantIncome  LoanAmount  Loan_Amount_Term  \\\n",
              "count       307.000000         307.000000  307.000000        307.000000   \n",
              "mean       4707.081433        1555.029316  136.092933        343.207449   \n",
              "std        4914.699219        2339.457035   58.522981         64.928363   \n",
              "min           0.000000           0.000000   28.000000          6.000000   \n",
              "25%        2864.000000           0.000000  102.000000        360.000000   \n",
              "50%        3791.000000        1000.000000  126.000000        360.000000   \n",
              "75%        5020.500000        2430.500000  154.000000        360.000000   \n",
              "max       72529.000000       24000.000000  460.000000        480.000000   \n",
              "\n",
              "       Credit_History  \n",
              "count      307.000000  \n",
              "mean         0.837134  \n",
              "std          0.369847  \n",
              "min          0.000000  \n",
              "25%          1.000000  \n",
              "50%          1.000000  \n",
              "75%          1.000000  \n",
              "max          1.000000  "
            ]
          },
          "execution_count": 27,
          "metadata": {},
          "output_type": "execute_result"
        }
      ],
      "source": [
        "x_test.describe()"
      ]
    },
    {
      "cell_type": "markdown",
      "id": "db008c0f",
      "metadata": {
        "id": "db008c0f"
      },
      "source": [
        "# ApplicantIncome"
      ]
    },
    {
      "cell_type": "code",
      "execution_count": null,
      "id": "424854eb",
      "metadata": {
        "id": "424854eb",
        "outputId": "18e02b0a-8804-4467-e747-e78e2bd94713"
      },
      "outputs": [
        {
          "name": "stdout",
          "output_type": "stream",
          "text": [
            "7\n"
          ]
        }
      ],
      "source": [
        "outlier=[]\n",
        "mean,std=5439.227533,5949.632561\n",
        "for i in x_train['ApplicantIncome']:\n",
        "    x = (i-mean)/std\n",
        "    if x > 3 or x <-3:\n",
        "        outlier.append(i)\n",
        "print(len(outlier))"
      ]
    },
    {
      "cell_type": "code",
      "execution_count": null,
      "id": "8d78074c",
      "metadata": {
        "id": "8d78074c",
        "outputId": "97180031-b211-4904-8cec-de6fa4e5c40f"
      },
      "outputs": [
        {
          "name": "stdout",
          "output_type": "stream",
          "text": [
            "3\n"
          ]
        }
      ],
      "source": [
        "outlier=[]\n",
        "mean,std=4707.081433,4914.699219\n",
        "for i in x_test['ApplicantIncome']:\n",
        "    x = (i-mean)/std\n",
        "    if x > 3 or x <-3:\n",
        "        outlier.append(i)\n",
        "print(len(outlier))"
      ]
    },
    {
      "cell_type": "raw",
      "id": "00252d3b",
      "metadata": {
        "id": "00252d3b"
      },
      "source": [
        "Outliers in ApplicantIncome that make sense."
      ]
    },
    {
      "cell_type": "markdown",
      "id": "22fc7b72",
      "metadata": {
        "id": "22fc7b72"
      },
      "source": [
        "# CoapplicantIncome"
      ]
    },
    {
      "cell_type": "code",
      "execution_count": null,
      "id": "2688f20c",
      "metadata": {
        "id": "2688f20c",
        "outputId": "9b630db4-5f1c-4084-8260-3a70f518f01a"
      },
      "outputs": [
        {
          "name": "stdout",
          "output_type": "stream",
          "text": [
            "5\n"
          ]
        }
      ],
      "source": [
        "outlier=[]\n",
        "mean,std=1554.783786,2540.882028\n",
        "for i in x_train['CoapplicantIncome']:\n",
        "    x = (i-mean)/std\n",
        "    if x > 3 or x <-3:\n",
        "        outlier.append(i)\n",
        "print(len(outlier))"
      ]
    },
    {
      "cell_type": "code",
      "execution_count": null,
      "id": "5b03d834",
      "metadata": {
        "id": "5b03d834",
        "outputId": "c556703f-a9ae-4492-89ea-f3d376484dc6"
      },
      "outputs": [
        {
          "name": "stdout",
          "output_type": "stream",
          "text": [
            "4\n"
          ]
        }
      ],
      "source": [
        "outlier=[]\n",
        "mean,std=1555.029316,2339.457035\n",
        "for i in x_test['CoapplicantIncome']:\n",
        "    x = (i-mean)/std\n",
        "    if x > 3 or x <-3:\n",
        "        outlier.append(i)\n",
        "print(len(outlier))"
      ]
    },
    {
      "cell_type": "raw",
      "id": "73e196ac",
      "metadata": {
        "id": "73e196ac"
      },
      "source": [
        "Outliers in CoApplicantIncome that make sense."
      ]
    },
    {
      "cell_type": "markdown",
      "id": "d7cbb7fc",
      "metadata": {
        "id": "d7cbb7fc"
      },
      "source": [
        "# LoanAmount"
      ]
    },
    {
      "cell_type": "code",
      "execution_count": null,
      "id": "717aae27",
      "metadata": {
        "id": "717aae27",
        "outputId": "81ad8209-ba7c-4165-f227-ec3ec8e21e42"
      },
      "outputs": [
        {
          "name": "stdout",
          "output_type": "stream",
          "text": [
            "11\n"
          ]
        }
      ],
      "source": [
        "outlier=[]\n",
        "mean,std=145.789352,82.047179\n",
        "for i in x_train['LoanAmount']:\n",
        "    x = (i-mean)/std\n",
        "    if x > 3 or x <-3:\n",
        "        outlier.append(i)\n",
        "print(len(outlier))"
      ]
    },
    {
      "cell_type": "code",
      "execution_count": null,
      "id": "668b3f70",
      "metadata": {
        "id": "668b3f70",
        "outputId": "f114ac9c-2468-48cb-8e45-65f56b42e3f8"
      },
      "outputs": [
        {
          "name": "stdout",
          "output_type": "stream",
          "text": [
            "5\n"
          ]
        }
      ],
      "source": [
        "outlier=[]\n",
        "mean,std=136.092933,58.522981\n",
        "for i in x_test['LoanAmount']:\n",
        "    x = (i-mean)/std\n",
        "    if x > 3 or x <-3:\n",
        "        outlier.append(i)\n",
        "print(len(outlier))"
      ]
    },
    {
      "cell_type": "raw",
      "id": "db271840",
      "metadata": {
        "id": "db271840"
      },
      "source": [
        "Outliers in loan amount that make sense."
      ]
    },
    {
      "cell_type": "markdown",
      "id": "006db6d6",
      "metadata": {
        "id": "006db6d6"
      },
      "source": [
        "# Loan_Amount_Term"
      ]
    },
    {
      "cell_type": "code",
      "execution_count": null,
      "id": "be3ea38e",
      "metadata": {
        "id": "be3ea38e",
        "outputId": "01a65242-a25a-4bb1-b350-5ec9739530ab"
      },
      "outputs": [
        {
          "name": "stdout",
          "output_type": "stream",
          "text": [
            "10\n"
          ]
        }
      ],
      "source": [
        "outlier=[]\n",
        "mean,std=343.207449,63.822482\n",
        "for i in x_train['Loan_Amount_Term']:\n",
        "    x = (i-mean)/std\n",
        "    if x > 3 or x <-3:\n",
        "        outlier.append(i)\n",
        "print(len(outlier))"
      ]
    },
    {
      "cell_type": "code",
      "execution_count": null,
      "id": "ef06809f",
      "metadata": {
        "id": "ef06809f",
        "outputId": "ca1c01dd-c2b2-45e9-d369-74a1dcb61be3"
      },
      "outputs": [
        {
          "name": "stdout",
          "output_type": "stream",
          "text": [
            "6\n"
          ]
        }
      ],
      "source": [
        "outlier=[]\n",
        "mean,std=343.207449,64.928363\n",
        "for i in x_test['Loan_Amount_Term']:\n",
        "    x = (i-mean)/std\n",
        "    if x > 3 or x <-3:\n",
        "        outlier.append(i)\n",
        "print(len(outlier))"
      ]
    },
    {
      "cell_type": "raw",
      "id": "8588aecd",
      "metadata": {
        "id": "8588aecd"
      },
      "source": [
        "Minimal outliers only in Loan amount term"
      ]
    },
    {
      "cell_type": "markdown",
      "id": "d37b5777",
      "metadata": {
        "id": "d37b5777"
      },
      "source": [
        "# Credit_History"
      ]
    },
    {
      "cell_type": "code",
      "execution_count": null,
      "id": "a4ad0d8f",
      "metadata": {
        "id": "a4ad0d8f",
        "outputId": "f156973f-0808-450d-8b42-fc96b4b05c47"
      },
      "outputs": [
        {
          "name": "stdout",
          "output_type": "stream",
          "text": [
            "0\n"
          ]
        }
      ],
      "source": [
        "outlier=[]\n",
        "mean,std=0.841300,0.365746\n",
        "for i in x_train['Credit_History']:\n",
        "    x = (i-mean)/std\n",
        "    if x > 3 or x <-3:\n",
        "        outlier.append(i)\n",
        "print(len(outlier))"
      ]
    },
    {
      "cell_type": "code",
      "execution_count": null,
      "id": "1fe37b52",
      "metadata": {
        "id": "1fe37b52",
        "outputId": "e6b416a1-5f39-414b-a407-ea835b54bc66"
      },
      "outputs": [
        {
          "name": "stdout",
          "output_type": "stream",
          "text": [
            "0\n"
          ]
        }
      ],
      "source": [
        "outlier=[]\n",
        "mean,std=0.837134,0.369847\n",
        "for i in x_test['Credit_History']:\n",
        "    x = (i-mean)/std\n",
        "    if x > 3 or x <-3:\n",
        "        outlier.append(i)\n",
        "print(len(outlier))"
      ]
    },
    {
      "cell_type": "raw",
      "id": "f137094d",
      "metadata": {
        "id": "f137094d"
      },
      "source": [
        "No outliers in Credit history "
      ]
    },
    {
      "cell_type": "markdown",
      "id": "a50f9f1a",
      "metadata": {
        "id": "a50f9f1a"
      },
      "source": [
        "# CHECKING IS THERE ANY SPELLING MISTAKES."
      ]
    },
    {
      "cell_type": "code",
      "execution_count": null,
      "id": "34786330",
      "metadata": {
        "id": "34786330",
        "outputId": "a6f703a8-ff57-45a1-a232-10b633654086"
      },
      "outputs": [
        {
          "data": {
            "text/plain": [
              "(array(['Male', 'Female'], dtype=object),\n",
              " array(['Male', 'Female'], dtype=object))"
            ]
          },
          "execution_count": 97,
          "metadata": {},
          "output_type": "execute_result"
        }
      ],
      "source": [
        "x=x_train['Gender'].unique()\n",
        "y=x_test['Gender'].unique()\n",
        "x,y"
      ]
    },
    {
      "cell_type": "code",
      "execution_count": null,
      "id": "3694e569",
      "metadata": {
        "id": "3694e569",
        "outputId": "a569ec92-50ba-4db8-d625-e5adbb9dccf2"
      },
      "outputs": [
        {
          "data": {
            "text/plain": [
              "(array(['No', 'Yes'], dtype=object), array(['Yes', 'No'], dtype=object))"
            ]
          },
          "execution_count": 98,
          "metadata": {},
          "output_type": "execute_result"
        }
      ],
      "source": [
        "x=x_train['Married'].unique()\n",
        "y=x_test['Married'].unique()\n",
        "x,y"
      ]
    },
    {
      "cell_type": "code",
      "execution_count": null,
      "id": "03b7750d",
      "metadata": {
        "id": "03b7750d",
        "outputId": "68c7e20f-60d8-4aec-9960-97237b84a36e"
      },
      "outputs": [
        {
          "data": {
            "text/plain": [
              "(array(['0', '1', '2', '3+'], dtype=object),\n",
              " array(['0', '1', '2', '3+'], dtype=object))"
            ]
          },
          "execution_count": 99,
          "metadata": {},
          "output_type": "execute_result"
        }
      ],
      "source": [
        "x=x_train['Dependents'].unique()\n",
        "y=x_test['Dependents'].unique()\n",
        "x,y"
      ]
    },
    {
      "cell_type": "code",
      "execution_count": null,
      "id": "0187df18",
      "metadata": {
        "id": "0187df18",
        "outputId": "189e9d41-9009-4fbb-ad2d-25415b29ea3c"
      },
      "outputs": [
        {
          "data": {
            "text/plain": [
              "(array(['Graduate', 'Not Graduate'], dtype=object),\n",
              " array(['Graduate', 'Not Graduate'], dtype=object))"
            ]
          },
          "execution_count": 100,
          "metadata": {},
          "output_type": "execute_result"
        }
      ],
      "source": [
        "x=x_train['Education'].unique()\n",
        "y=x_test['Education'].unique()\n",
        "x,y"
      ]
    },
    {
      "cell_type": "code",
      "execution_count": null,
      "id": "41402e10",
      "metadata": {
        "id": "41402e10",
        "outputId": "7aee62d1-c1bd-4c55-a716-d4e48e475a74"
      },
      "outputs": [
        {
          "data": {
            "text/plain": [
              "(array(['No', 'Yes'], dtype=object), array(['No', 'Yes'], dtype=object))"
            ]
          },
          "execution_count": 101,
          "metadata": {},
          "output_type": "execute_result"
        }
      ],
      "source": [
        "x=x_train['Self_Employed'].unique()\n",
        "y=x_test['Self_Employed'].unique()\n",
        "x,y"
      ]
    },
    {
      "cell_type": "code",
      "execution_count": null,
      "id": "fa522022",
      "metadata": {
        "id": "fa522022",
        "outputId": "adc7f78c-54e6-41ef-a45e-f9a10ffbb72a"
      },
      "outputs": [
        {
          "data": {
            "text/plain": [
              "(array(['Urban', 'Rural', 'Semiurban'], dtype=object),\n",
              " array(['Urban', 'Semiurban', 'Rural'], dtype=object))"
            ]
          },
          "execution_count": 102,
          "metadata": {},
          "output_type": "execute_result"
        }
      ],
      "source": [
        "x=x_train['Property_Area'].unique()\n",
        "y=x_test['Property_Area'].unique()\n",
        "x,y"
      ]
    },
    {
      "cell_type": "code",
      "execution_count": null,
      "id": "70647616",
      "metadata": {
        "id": "70647616",
        "outputId": "2ba71e5f-1860-4567-8c4e-7b0ea8d24ff1"
      },
      "outputs": [
        {
          "data": {
            "text/plain": [
              "array(['Y', 'N'], dtype=object)"
            ]
          },
          "execution_count": 104,
          "metadata": {},
          "output_type": "execute_result"
        }
      ],
      "source": [
        "x=x_train['Loan_Status'].unique()\n",
        "x"
      ]
    },
    {
      "cell_type": "raw",
      "id": "ca612c9f",
      "metadata": {
        "id": "ca612c9f"
      },
      "source": [
        "There is no spelling mistakes over there."
      ]
    },
    {
      "cell_type": "markdown",
      "id": "e113a5a1",
      "metadata": {
        "id": "e113a5a1"
      },
      "source": [
        "# CHECKING FOR DTYPES "
      ]
    },
    {
      "cell_type": "code",
      "execution_count": null,
      "id": "78f7d111",
      "metadata": {
        "id": "78f7d111",
        "outputId": "062b3604-9534-472b-f6a9-ab277771bbf5"
      },
      "outputs": [
        {
          "data": {
            "text/plain": [
              "Gender                object\n",
              "Married               object\n",
              "Dependents            object\n",
              "Education             object\n",
              "Self_Employed         object\n",
              "ApplicantIncome        int64\n",
              "CoapplicantIncome    float64\n",
              "LoanAmount           float64\n",
              "Loan_Amount_Term     float64\n",
              "Credit_History       float64\n",
              "Property_Area         object\n",
              "Loan_Status           object\n",
              "dtype: object"
            ]
          },
          "execution_count": 146,
          "metadata": {},
          "output_type": "execute_result"
        }
      ],
      "source": [
        "x_train.dtypes"
      ]
    },
    {
      "cell_type": "raw",
      "id": "a73e5bcc",
      "metadata": {
        "id": "a73e5bcc"
      },
      "source": [
        "Here we gonna change Credit_History into int otherwise all good over here."
      ]
    },
    {
      "cell_type": "code",
      "execution_count": null,
      "id": "fe67f46c",
      "metadata": {
        "id": "fe67f46c",
        "outputId": "1fc1e41b-8763-4805-8a9c-cd6a93a69eb2"
      },
      "outputs": [
        {
          "data": {
            "text/plain": [
              "Gender                object\n",
              "Married               object\n",
              "Dependents            object\n",
              "Education             object\n",
              "Self_Employed         object\n",
              "ApplicantIncome        int64\n",
              "CoapplicantIncome    float64\n",
              "LoanAmount           float64\n",
              "Loan_Amount_Term     float64\n",
              "Credit_History         int64\n",
              "Property_Area         object\n",
              "Loan_Status           object\n",
              "dtype: object"
            ]
          },
          "execution_count": 66,
          "metadata": {},
          "output_type": "execute_result"
        }
      ],
      "source": [
        "x_train.Credit_History = x_train.Credit_History.astype('int64')\n",
        "x_test.Credit_History = x_test.Credit_History.astype('int64')\n",
        "x_train.dtypes"
      ]
    },
    {
      "cell_type": "code",
      "execution_count": null,
      "id": "908b5c65",
      "metadata": {
        "id": "908b5c65",
        "outputId": "becbe653-b75c-46fc-e6f2-a7c0ff1f8c93"
      },
      "outputs": [
        {
          "data": {
            "text/plain": [
              "Gender                object\n",
              "Married               object\n",
              "Dependents            object\n",
              "Education             object\n",
              "Self_Employed         object\n",
              "ApplicantIncome        int64\n",
              "CoapplicantIncome      int64\n",
              "LoanAmount           float64\n",
              "Loan_Amount_Term     float64\n",
              "Credit_History         int64\n",
              "Property_Area         object\n",
              "dtype: object"
            ]
          },
          "execution_count": 67,
          "metadata": {},
          "output_type": "execute_result"
        }
      ],
      "source": [
        "x_test.dtypes"
      ]
    },
    {
      "cell_type": "markdown",
      "id": "6481344a",
      "metadata": {
        "id": "6481344a"
      },
      "source": [
        "# EDA"
      ]
    },
    {
      "cell_type": "code",
      "execution_count": null,
      "id": "e9a06536",
      "metadata": {
        "id": "e9a06536",
        "outputId": "ea4aad48-d721-47cb-c4a0-2c87b367fc3e"
      },
      "outputs": [
        {
          "data": {
            "text/plain": [
              "Index(['Gender', 'Married', 'Dependents', 'Education', 'Self_Employed',\n",
              "       'ApplicantIncome', 'CoapplicantIncome', 'LoanAmount',\n",
              "       'Loan_Amount_Term', 'Credit_History', 'Property_Area', 'Loan_Status'],\n",
              "      dtype='object')"
            ]
          },
          "execution_count": 95,
          "metadata": {},
          "output_type": "execute_result"
        }
      ],
      "source": [
        "x_train.columns"
      ]
    },
    {
      "cell_type": "code",
      "execution_count": null,
      "id": "a1bd775c",
      "metadata": {
        "id": "a1bd775c",
        "outputId": "9e587401-c75e-4be8-9551-e8be66e4bd66"
      },
      "outputs": [
        {
          "data": {
            "text/plain": [
              "Index(['Gender', 'Married', 'Dependents', 'Education', 'Self_Employed',\n",
              "       'ApplicantIncome', 'CoapplicantIncome', 'LoanAmount',\n",
              "       'Loan_Amount_Term', 'Credit_History', 'Property_Area'],\n",
              "      dtype='object')"
            ]
          },
          "execution_count": 96,
          "metadata": {},
          "output_type": "execute_result"
        }
      ],
      "source": [
        "x_test.columns"
      ]
    },
    {
      "cell_type": "markdown",
      "id": "2a7645f8",
      "metadata": {
        "id": "2a7645f8"
      },
      "source": [
        "# FINDING FEATURE DISTRIBUTION"
      ]
    },
    {
      "cell_type": "code",
      "execution_count": null,
      "id": "fe2390f7",
      "metadata": {
        "id": "fe2390f7",
        "outputId": "0d56f2ab-2d9c-4d82-e5d1-ea24cc33434f"
      },
      "outputs": [
        {
          "name": "stderr",
          "output_type": "stream",
          "text": [
            "C:\\Users\\Parth\\anaconda3\\lib\\site-packages\\seaborn\\distributions.py:2619: FutureWarning: `distplot` is a deprecated function and will be removed in a future version. Please adapt your code to use either `displot` (a figure-level function with similar flexibility) or `histplot` (an axes-level function for histograms).\n",
            "  warnings.warn(msg, FutureWarning)\n",
            "C:\\Users\\Parth\\anaconda3\\lib\\site-packages\\seaborn\\distributions.py:2619: FutureWarning: `distplot` is a deprecated function and will be removed in a future version. Please adapt your code to use either `displot` (a figure-level function with similar flexibility) or `histplot` (an axes-level function for histograms).\n",
            "  warnings.warn(msg, FutureWarning)\n"
          ]
        },
        {
          "data": {
            "image/png": "[encoded data removed]",
            "text/plain": [
              "<Figure size 864x432 with 2 Axes>"
            ]
          },
          "metadata": {
            "needs_background": "light"
          },
          "output_type": "display_data"
        }
      ],
      "source": [
        "plt.figure(figsize=(12,6))\n",
        "plt.subplot(1,2,1)\n",
        "sns.distplot(x_train.ApplicantIncome)\n",
        "plt.subplot(1,2,2)\n",
        "sns.distplot(x_train.CoapplicantIncome,color = 'darkblue')\n",
        "plt.tight_layout()"
      ]
    },
    {
      "cell_type": "raw",
      "id": "eb636667",
      "metadata": {
        "id": "eb636667"
      },
      "source": [
        "It was look like the applicanticome mostly in between 0 to 20000 and in coapplicantincome 0 to 8000."
      ]
    },
    {
      "cell_type": "code",
      "execution_count": null,
      "id": "3f52d040",
      "metadata": {
        "id": "3f52d040",
        "outputId": "e92e90ab-39a2-49e2-94bd-f294034b4ac0"
      },
      "outputs": [
        {
          "name": "stderr",
          "output_type": "stream",
          "text": [
            "C:\\Users\\Parth\\anaconda3\\lib\\site-packages\\seaborn\\distributions.py:2619: FutureWarning: `distplot` is a deprecated function and will be removed in a future version. Please adapt your code to use either `displot` (a figure-level function with similar flexibility) or `histplot` (an axes-level function for histograms).\n",
            "  warnings.warn(msg, FutureWarning)\n",
            "C:\\Users\\Parth\\anaconda3\\lib\\site-packages\\seaborn\\distributions.py:2619: FutureWarning: `distplot` is a deprecated function and will be removed in a future version. Please adapt your code to use either `displot` (a figure-level function with similar flexibility) or `histplot` (an axes-level function for histograms).\n",
            "  warnings.warn(msg, FutureWarning)\n",
            "C:\\Users\\Parth\\anaconda3\\lib\\site-packages\\seaborn\\distributions.py:2619: FutureWarning: `distplot` is a deprecated function and will be removed in a future version. Please adapt your code to use either `displot` (a figure-level function with similar flexibility) or `histplot` (an axes-level function for histograms).\n",
            "  warnings.warn(msg, FutureWarning)\n"
          ]
        },
        {
          "data": {
            "image/png": "[encoded data removed]",
            "text/plain": [
              "<Figure size 864x432 with 3 Axes>"
            ]
          },
          "metadata": {
            "needs_background": "light"
          },
          "output_type": "display_data"
        }
      ],
      "source": [
        "plt.figure(figsize=(12,6))\n",
        "plt.subplot(1,3,1)\n",
        "sns.distplot(x_train.LoanAmount,color='green')\n",
        "plt.subplot(1,3,2)\n",
        "sns.distplot(x_train.Loan_Amount_Term,color='red')\n",
        "plt.subplot(1,3,3)\n",
        "sns.distplot(x_train.Credit_History,color='Blue')\n",
        "plt.tight_layout()"
      ]
    },
    {
      "cell_type": "raw",
      "id": "59c884e0",
      "metadata": {
        "id": "59c884e0"
      },
      "source": [
        "Loan amount was nearly like normal distribution.\n",
        "Loan amount term distributed in 200,310,370 and highly in 380.\n",
        "Credit history between 0 and 1."
      ]
    },
    {
      "cell_type": "code",
      "execution_count": null,
      "id": "7e8aaa38",
      "metadata": {
        "id": "7e8aaa38",
        "outputId": "52efb8f8-832f-460b-9b50-060d4eb3157e"
      },
      "outputs": [
        {
          "data": {
            "image/png": "[encoded data removed]",
            "text/plain": [
              "<Figure size 864x1296 with 6 Axes>"
            ]
          },
          "metadata": {
            "needs_background": "light"
          },
          "output_type": "display_data"
        },
        {
          "data": {
            "text/plain": [
              "<Figure size 432x288 with 0 Axes>"
            ]
          },
          "metadata": {},
          "output_type": "display_data"
        }
      ],
      "source": [
        "plt.figure(figsize=(12,18))\n",
        "\n",
        "A=x_train['Gender'].groupby(x_train['Gender']).count()\n",
        "B=x_train['Married'].groupby(x_train['Married']).count()\n",
        "C=x_train['Dependents'].groupby(x_train['Dependents']).count()\n",
        "D=x_train['Education'].groupby(x_train['Education']).count()\n",
        "E=x_train['Self_Employed'].groupby(x_train['Self_Employed']).count()\n",
        "F=x_train['Property_Area'].groupby(x_train['Property_Area']).count()\n",
        "\n",
        "plt.subplot(3,2,1)\n",
        "sns.barplot(x=A.index,y=A.values,data=x_train)\n",
        "plt.title('GENDER DISTRIBUTION')\n",
        "\n",
        "plt.subplot(3,2,2)\n",
        "sns.barplot(x=B.index,y=B.values,data=x_train)\n",
        "plt.title('MARRIED DISTRIBUTION')\n",
        "\n",
        "plt.subplot(3,2,3)\n",
        "sns.barplot(x=C.index,y=C.values,data=x_train)\n",
        "plt.title('DEPENDENTS DISTRIBUTION')\n",
        "\n",
        "plt.subplot(3,2,4)\n",
        "sns.barplot(x=D.index,y=D.values,data=x_train)\n",
        "plt.title('EDUCATION DISTRIBUTION')\n",
        "\n",
        "plt.subplot(3,2,5)\n",
        "sns.barplot(x=E.index,y=E.values,data=x_train)\n",
        "plt.title('SELF_EMPLOYED DISTRIBUTION')\n",
        "\n",
        "plt.subplot(3,2,6)\n",
        "sns.barplot(x=F.index,y=F.values,data=x_train)\n",
        "plt.title('PROPERTY_AREA DISTRIBUTION')\n",
        "\n",
        "plt.show()\n",
        "plt.tight_layout()"
      ]
    },
    {
      "cell_type": "raw",
      "id": "733d68fb",
      "metadata": {
        "id": "733d68fb"
      },
      "source": [
        "In gender the male dominates more distribution and in married yes dominates more distribution\n",
        "In dependents 0 distributed more and in education graduated distributed more.\n",
        "In self_employmed are less which means no distributed more and in property area semiurban distributed more."
      ]
    },
    {
      "cell_type": "code",
      "execution_count": null,
      "id": "64010e8d",
      "metadata": {
        "id": "64010e8d",
        "outputId": "58f23fe9-e93c-4ca1-c1a4-fbaf4a142c76"
      },
      "outputs": [
        {
          "data": {
            "image/png": "[encoded data removed]",
            "text/plain": [
              "<Figure size 864x576 with 6 Axes>"
            ]
          },
          "metadata": {},
          "output_type": "display_data"
        }
      ],
      "source": [
        "plt.figure(figsize=(12,8))\n",
        "\n",
        "plt.subplot(321)\n",
        "df_source = x_train.Gender.value_counts()\n",
        "df_source = df_source.reset_index()\n",
        "plt.pie(df_source['Gender'],labels=df_source['index'],autopct='%1.1f%%')\n",
        "plt.title('Percent distribution of  Gender')\n",
        "plt.axis('equal')\n",
        "\n",
        "plt.subplot(322)\n",
        "df_source = x_train.Married.value_counts()\n",
        "df_source = df_source.reset_index()\n",
        "plt.pie(df_source['Married'],labels=df_source['index'],autopct='%1.1f%%')\n",
        "plt.title('Percent distribution of  Married')\n",
        "plt.axis('equal')\n",
        "\n",
        "plt.subplot(323)\n",
        "df_source = x_train.Dependents.value_counts()\n",
        "df_source = df_source.reset_index()\n",
        "plt.pie(df_source['Dependents'],labels=df_source['index'],autopct='%1.1f%%')\n",
        "plt.title('Percent distribution of  Dependents')\n",
        "plt.axis('equal')\n",
        "    \n",
        "plt.subplot(324)\n",
        "df_source = x_train.Education.value_counts()\n",
        "df_source = df_source.reset_index()\n",
        "plt.pie(df_source['Education'],labels=df_source['index'],autopct='%1.1f%%')\n",
        "plt.title('Percent distribution of  Education')\n",
        "plt.axis('equal')\n",
        "    \n",
        "plt.subplot(325)\n",
        "df_source = x_train.Self_Employed.value_counts()\n",
        "df_source = df_source.reset_index()\n",
        "plt.pie(df_source['Self_Employed'],labels=df_source['index'],autopct='%1.1f%%')\n",
        "plt.title('Percent distribution of  Self_Employed')\n",
        "plt.axis('equal')\n",
        "\n",
        "plt.subplot(326)\n",
        "df_source = x_train.Property_Area.value_counts()\n",
        "df_source = df_source.reset_index()\n",
        "plt.pie(df_source['Property_Area'],labels=df_source['index'],autopct='%1.1f%%')\n",
        "plt.title('Percent distribution of  Property_Area')\n",
        "plt.axis('equal')\n",
        "    \n",
        "plt.tight_layout()\n",
        "plt.show()"
      ]
    },
    {
      "cell_type": "markdown",
      "id": "c4b61f59",
      "metadata": {
        "id": "c4b61f59"
      },
      "source": [
        "# FEATURE VS TARGET"
      ]
    },
    {
      "cell_type": "code",
      "execution_count": null,
      "id": "6791744c",
      "metadata": {
        "id": "6791744c"
      },
      "outputs": [],
      "source": [
        "Loan_Status is a target variable"
      ]
    },
    {
      "cell_type": "code",
      "execution_count": null,
      "id": "0a512ef0",
      "metadata": {
        "id": "0a512ef0"
      },
      "outputs": [],
      "source": [
        "x_train['Loan_Status']=x_train['Loan_Status'].map({'Y':1,'N':0})"
      ]
    },
    {
      "cell_type": "code",
      "execution_count": null,
      "id": "bd8f407f",
      "metadata": {
        "id": "bd8f407f",
        "outputId": "ee72c338-4ff4-41cc-f160-c3cf1595a274"
      },
      "outputs": [
        {
          "data": {
            "text/plain": [
              "array([1, 0], dtype=int64)"
            ]
          },
          "execution_count": 35,
          "metadata": {},
          "output_type": "execute_result"
        }
      ],
      "source": [
        "x_train['Loan_Status'].unique()"
      ]
    },
    {
      "cell_type": "code",
      "execution_count": null,
      "id": "a6a6563c",
      "metadata": {
        "id": "a6a6563c",
        "outputId": "33d0f069-9a1e-43d2-b109-27c8c8796007"
      },
      "outputs": [
        {
          "data": {
            "text/plain": [
              "Index(['Gender', 'Married', 'Dependents', 'Education', 'Self_Employed',\n",
              "       'ApplicantIncome', 'CoapplicantIncome', 'LoanAmount',\n",
              "       'Loan_Amount_Term', 'Credit_History', 'Property_Area', 'Loan_Status'],\n",
              "      dtype='object')"
            ]
          },
          "execution_count": 112,
          "metadata": {},
          "output_type": "execute_result"
        }
      ],
      "source": [
        "x_train.columns"
      ]
    },
    {
      "cell_type": "code",
      "execution_count": null,
      "id": "de902b63",
      "metadata": {
        "id": "de902b63",
        "outputId": "11b2279d-440d-4ffc-97fa-ce9c2b3ef0a3"
      },
      "outputs": [
        {
          "data": {
            "image/png": "[encoded data removed]",
            "text/plain": [
              "<Figure size 1152x1296 with 6 Axes>"
            ]
          },
          "metadata": {
            "needs_background": "light"
          },
          "output_type": "display_data"
        },
        {
          "data": {
            "text/plain": [
              "<Figure size 432x288 with 0 Axes>"
            ]
          },
          "metadata": {},
          "output_type": "display_data"
        }
      ],
      "source": [
        "plt.figure(figsize=(16,18))\n",
        "\n",
        "plt.subplot(231)\n",
        "sns.barplot(x='Gender',y='Loan_Status',data=x_train)\n",
        "plt.title('Gender vs Loanstatus')\n",
        "\n",
        "plt.subplot(232)\n",
        "sns.barplot(x='Married',y='Loan_Status',data=x_train)\n",
        "plt.title('Married vs Loanstatus')\n",
        "\n",
        "plt.subplot(233)\n",
        "sns.barplot(x='Dependents',y='Loan_Status',data=x_train)\n",
        "plt.title('Dependents vs Loanstatus')\n",
        "\n",
        "plt.subplot(234)\n",
        "sns.barplot(x='Education',y='Loan_Status',data=x_train)\n",
        "plt.title('Education vs Loanstatus')\n",
        "\n",
        "plt.subplot(235)\n",
        "sns.barplot(x='Self_Employed',y='Loan_Status',data=x_train)\n",
        "plt.title('Self_Employed vs Loanstatus')\n",
        "\n",
        "plt.subplot(236)\n",
        "sns.barplot(x='Property_Area',y='Loan_Status',data=x_train)\n",
        "plt.title('Property_Area vs Loanstatus')\n",
        "\n",
        "plt.show()\n",
        "plt.tight_layout()"
      ]
    },
    {
      "cell_type": "code",
      "execution_count": null,
      "id": "3064e29b",
      "metadata": {
        "id": "3064e29b",
        "outputId": "8261296c-108c-42b2-a301-29725cd1dc0b"
      },
      "outputs": [
        {
          "data": {
            "image/png": "[encoded data removed]",
            "text/plain": [
              "<Figure size 1080x576 with 2 Axes>"
            ]
          },
          "metadata": {
            "needs_background": "light"
          },
          "output_type": "display_data"
        },
        {
          "name": "stdout",
          "output_type": "stream",
          "text": [
            "\n",
            "                  ApplicantIncome  Loan_Status\n",
            "ApplicantIncome         1.000000    -0.015526\n",
            "Loan_Status            -0.015526     1.000000\n",
            "\n",
            "                    CoapplicantIncome  Loan_Status\n",
            "CoapplicantIncome           1.000000    -0.040646\n",
            "Loan_Status                -0.040646     1.000000\n"
          ]
        },
        {
          "data": {
            "text/plain": [
              "<Figure size 432x288 with 0 Axes>"
            ]
          },
          "metadata": {},
          "output_type": "display_data"
        }
      ],
      "source": [
        "plt.figure(figsize=(15,8))\n",
        "\n",
        "plt.subplot(121)\n",
        "sns.regplot(x=x_train['Loan_Status'],y=x_train['ApplicantIncome'],scatter_kws={'color':'indigo'},line_kws={'color':'red'})\n",
        "\n",
        "plt.subplot(122)\n",
        "sns.regplot(x=x_train['Loan_Status'],y=x_train['CoapplicantIncome'],scatter_kws={'color':'indigo'},line_kws={'color':'red'})\n",
        "\n",
        "plt.show()\n",
        "plt.tight_layout()\n",
        "print('\\n',x_train[['ApplicantIncome','Loan_Status']].corr())\n",
        "print('\\n',x_train[['CoapplicantIncome','Loan_Status']].corr())"
      ]
    },
    {
      "cell_type": "code",
      "execution_count": null,
      "id": "0d243060",
      "metadata": {
        "id": "0d243060",
        "outputId": "6d5132c3-5f6f-4800-d909-8cbbbc0ebada"
      },
      "outputs": [
        {
          "data": {
            "image/png": "[encoded data removed]",
            "text/plain": [
              "<Figure size 1080x576 with 2 Axes>"
            ]
          },
          "metadata": {
            "needs_background": "light"
          },
          "output_type": "display_data"
        },
        {
          "name": "stdout",
          "output_type": "stream",
          "text": [
            "\n",
            "              LoanAmount  Loan_Status\n",
            "LoanAmount     1.000000    -0.040986\n",
            "Loan_Status   -0.040986     1.000000\n",
            "\n",
            "                   Loan_Amount_Term  Loan_Status\n",
            "Loan_Amount_Term          1.000000    -0.002297\n",
            "Loan_Status              -0.002297     1.000000\n"
          ]
        },
        {
          "data": {
            "text/plain": [
              "<Figure size 432x288 with 0 Axes>"
            ]
          },
          "metadata": {},
          "output_type": "display_data"
        }
      ],
      "source": [
        "plt.figure(figsize=(15,8))\n",
        "\n",
        "plt.subplot(121)\n",
        "sns.regplot(x=x_train['Loan_Status'],y=x_train['LoanAmount'],scatter_kws={'color':'indigo'},line_kws={'color':'red'})\n",
        "\n",
        "plt.subplot(122)\n",
        "sns.regplot(x=x_train['Loan_Status'],y=x_train['Loan_Amount_Term'],scatter_kws={'color':'indigo'},line_kws={'color':'red'})\n",
        "\n",
        "plt.show()\n",
        "plt.tight_layout()\n",
        "print('\\n',x_train[['LoanAmount','Loan_Status']].corr())\n",
        "print('\\n',x_train[['Loan_Amount_Term','Loan_Status']].corr())"
      ]
    },
    {
      "cell_type": "code",
      "execution_count": null,
      "id": "400fe533",
      "metadata": {
        "id": "400fe533",
        "outputId": "17c22f31-f33a-4031-8605-7cfc4edf3a0f"
      },
      "outputs": [
        {
          "name": "stdout",
          "output_type": "stream",
          "text": [
            "\n",
            "                 Credit_History  Loan_Status\n",
            "Credit_History        1.000000     0.550272\n",
            "Loan_Status           0.550272     1.000000\n"
          ]
        },
        {
          "data": {
            "image/png": "[encoded data removed]",
            "text/plain": [
              "<Figure size 432x288 with 1 Axes>"
            ]
          },
          "metadata": {
            "needs_background": "light"
          },
          "output_type": "display_data"
        }
      ],
      "source": [
        "sns.regplot(x=x_train['Loan_Status'],y=x_train['Credit_History'],scatter_kws={'color':'indigo'},line_kws={'color':'red'})\n",
        "print('\\n',x_train[['Credit_History','Loan_Status']].corr())"
      ]
    },
    {
      "cell_type": "markdown",
      "id": "042e0643",
      "metadata": {
        "id": "042e0643"
      },
      "source": [
        "### COMPARING TARGET VARIABLE(Loan status) & LOAN AMOUNT WITH VARIOUS FEATURES "
      ]
    },
    {
      "cell_type": "code",
      "execution_count": null,
      "id": "b70dc761",
      "metadata": {
        "id": "b70dc761",
        "outputId": "cc4e5f4b-87d3-43ac-b044-f8a5373e8e86"
      },
      "outputs": [
        {
          "data": {
            "text/plain": [
              "<Figure size 720x720 with 0 Axes>"
            ]
          },
          "metadata": {},
          "output_type": "display_data"
        },
        {
          "data": {
            "image/png": "[encoded data removed]",
            "text/plain": [
              "<Figure size 720x576 with 1 Axes>"
            ]
          },
          "metadata": {
            "needs_background": "light"
          },
          "output_type": "display_data"
        }
      ],
      "source": [
        "import seaborn as sns\n",
        "plt.figure(figsize=(10, 8))\n",
        "sns.scatterplot(x='ApplicantIncome', y='LoanAmount', hue='Loan_Status', data=x_train, s=200)\n",
        "plt.title(\"ApplicantIncome vs LoanAmount vs admitted\", y=1.015, fontsize=20)\n",
        "plt.xlabel(\"ApplicantIncome\", labelpad=13)\n",
        "plt.ylabel(\"LoanAmount\", labelpad=13)\n",
        "ax = plt.gca()"
      ]
    },
    {
      "cell_type": "raw",
      "id": "df359dc4",
      "metadata": {
        "id": "df359dc4"
      },
      "source": [
        "There is an relation b/w applicant income and loan amount.\n",
        "The loan amount depends on the applicant income.\n",
        "In some places applicant income is low but loan amount is high in that case they are not admitted."
      ]
    },
    {
      "cell_type": "code",
      "execution_count": null,
      "id": "30380a17",
      "metadata": {
        "id": "30380a17",
        "outputId": "f2e34147-9560-4426-f183-d46e42030118"
      },
      "outputs": [
        {
          "data": {
            "image/png": "[encoded data removed]",
            "text/plain": [
              "<Figure size 720x576 with 1 Axes>"
            ]
          },
          "metadata": {
            "needs_background": "light"
          },
          "output_type": "display_data"
        }
      ],
      "source": [
        "import seaborn as sns\n",
        "plt.figure(figsize=(10, 8))\n",
        "sns.scatterplot(x='CoapplicantIncome', y='LoanAmount', hue='Loan_Status', data=x_train, s=200)\n",
        "plt.title(\"CoapplicantIncome vs LoanAmount vs admitted\", y=1.015, fontsize=20)\n",
        "plt.xlabel(\"CoapplicantIncome\", labelpad=13)\n",
        "plt.ylabel(\"LoanAmount\", labelpad=13)\n",
        "ax = plt.gca()"
      ]
    },
    {
      "cell_type": "code",
      "execution_count": null,
      "id": "caee9477",
      "metadata": {
        "id": "caee9477"
      },
      "outputs": [],
      "source": [
        ""
      ]
    },
    {
      "cell_type": "code",
      "execution_count": null,
      "id": "e40ac2b4",
      "metadata": {
        "id": "e40ac2b4",
        "outputId": "3a491c0a-3463-447b-e4a7-4b5906164f2e"
      },
      "outputs": [
        {
          "data": {
            "image/png": "[encoded data removed]",
            "text/plain": [
              "<Figure size 720x576 with 1 Axes>"
            ]
          },
          "metadata": {
            "needs_background": "light"
          },
          "output_type": "display_data"
        }
      ],
      "source": [
        "import seaborn as sns\n",
        "plt.figure(figsize=(10, 8))\n",
        "sns.scatterplot(x='Self_Employed', y='LoanAmount', hue='Loan_Status', data=x_train, s=200)\n",
        "plt.title(\"Self_Employed vs LoanAmount vs admitted\", y=1.015, fontsize=20)\n",
        "plt.xlabel(\"Self_Employed\", labelpad=13)\n",
        "plt.ylabel(\"LoanAmount\", labelpad=13)\n",
        "ax = plt.gca()"
      ]
    },
    {
      "cell_type": "raw",
      "id": "d265e76b",
      "metadata": {
        "id": "d265e76b"
      },
      "source": [
        "Self employed peoples admitted for loan is low in range.\n",
        "The non-selfemployed one can recieve more loan amount than self employed one."
      ]
    },
    {
      "cell_type": "code",
      "execution_count": null,
      "id": "e830c7bd",
      "metadata": {
        "id": "e830c7bd"
      },
      "outputs": [],
      "source": [
        ""
      ]
    },
    {
      "cell_type": "markdown",
      "id": "f9ccad25",
      "metadata": {
        "id": "f9ccad25"
      },
      "source": [
        "# ENCODE THE DATA"
      ]
    },
    {
      "cell_type": "code",
      "execution_count": null,
      "id": "b1f74773",
      "metadata": {
        "id": "b1f74773",
        "outputId": "be019499-2e13-45a5-da7b-0a3b25099de8"
      },
      "outputs": [
        {
          "data": {
            "text/plain": [
              "Gender                object\n",
              "Married               object\n",
              "Dependents            object\n",
              "Education             object\n",
              "Self_Employed         object\n",
              "ApplicantIncome        int64\n",
              "CoapplicantIncome    float64\n",
              "LoanAmount           float64\n",
              "Loan_Amount_Term     float64\n",
              "Credit_History       float64\n",
              "Property_Area         object\n",
              "Loan_Status           object\n",
              "dtype: object"
            ]
          },
          "execution_count": 40,
          "metadata": {},
          "output_type": "execute_result"
        }
      ],
      "source": [
        "x_train.dtypes"
      ]
    },
    {
      "cell_type": "code",
      "execution_count": null,
      "id": "8069681c",
      "metadata": {
        "id": "8069681c",
        "outputId": "46211259-be3f-44ae-f869-9b87378f3133"
      },
      "outputs": [
        {
          "data": {
            "text/plain": [
              "Gender                object\n",
              "Married               object\n",
              "Dependents            object\n",
              "Education             object\n",
              "Self_Employed         object\n",
              "ApplicantIncome        int64\n",
              "CoapplicantIncome      int64\n",
              "LoanAmount           float64\n",
              "Loan_Amount_Term     float64\n",
              "Credit_History       float64\n",
              "Property_Area         object\n",
              "dtype: object"
            ]
          },
          "execution_count": 41,
          "metadata": {},
          "output_type": "execute_result"
        }
      ],
      "source": [
        "x_test.dtypes"
      ]
    },
    {
      "cell_type": "code",
      "execution_count": null,
      "id": "8a83344d",
      "metadata": {
        "id": "8a83344d",
        "outputId": "81babaa4-271e-44d5-9bcc-c699db49f5fe"
      },
      "outputs": [
        {
          "data": {
            "text/html": [
              "<div>\n",
              "<style scoped>\n",
              "    .dataframe tbody tr th:only-of-type {\n",
              "        vertical-align: middle;\n",
              "    }\n",
              "\n",
              "    .dataframe tbody tr th {\n",
              "        vertical-align: top;\n",
              "    }\n",
              "\n",
              "    .dataframe thead th {\n",
              "        text-align: right;\n",
              "    }\n",
              "</style>\n",
              "<table border=\"1\" class=\"dataframe\">\n",
              "  <thead>\n",
              "    <tr style=\"text-align: right;\">\n",
              "      <th></th>\n",
              "      <th>Gender</th>\n",
              "      <th>Married</th>\n",
              "      <th>Dependents</th>\n",
              "      <th>Education</th>\n",
              "      <th>Self_Employed</th>\n",
              "      <th>ApplicantIncome</th>\n",
              "      <th>CoapplicantIncome</th>\n",
              "      <th>LoanAmount</th>\n",
              "      <th>Loan_Amount_Term</th>\n",
              "      <th>Credit_History</th>\n",
              "      <th>Property_Area</th>\n",
              "      <th>Loan_Status</th>\n",
              "    </tr>\n",
              "  </thead>\n",
              "  <tbody>\n",
              "    <tr>\n",
              "      <th>0</th>\n",
              "      <td>0</td>\n",
              "      <td>0</td>\n",
              "      <td>0</td>\n",
              "      <td>1</td>\n",
              "      <td>0</td>\n",
              "      <td>5849</td>\n",
              "      <td>0.0</td>\n",
              "      <td>146.412162</td>\n",
              "      <td>360.0</td>\n",
              "      <td>1</td>\n",
              "      <td>1</td>\n",
              "      <td>1</td>\n",
              "    </tr>\n",
              "    <tr>\n",
              "      <th>1</th>\n",
              "      <td>0</td>\n",
              "      <td>1</td>\n",
              "      <td>2</td>\n",
              "      <td>1</td>\n",
              "      <td>0</td>\n",
              "      <td>4583</td>\n",
              "      <td>1508.0</td>\n",
              "      <td>128.000000</td>\n",
              "      <td>360.0</td>\n",
              "      <td>1</td>\n",
              "      <td>0</td>\n",
              "      <td>0</td>\n",
              "    </tr>\n",
              "    <tr>\n",
              "      <th>2</th>\n",
              "      <td>0</td>\n",
              "      <td>1</td>\n",
              "      <td>0</td>\n",
              "      <td>1</td>\n",
              "      <td>1</td>\n",
              "      <td>3000</td>\n",
              "      <td>0.0</td>\n",
              "      <td>66.000000</td>\n",
              "      <td>360.0</td>\n",
              "      <td>1</td>\n",
              "      <td>1</td>\n",
              "      <td>1</td>\n",
              "    </tr>\n",
              "    <tr>\n",
              "      <th>3</th>\n",
              "      <td>0</td>\n",
              "      <td>1</td>\n",
              "      <td>0</td>\n",
              "      <td>0</td>\n",
              "      <td>0</td>\n",
              "      <td>2583</td>\n",
              "      <td>2358.0</td>\n",
              "      <td>120.000000</td>\n",
              "      <td>360.0</td>\n",
              "      <td>1</td>\n",
              "      <td>1</td>\n",
              "      <td>1</td>\n",
              "    </tr>\n",
              "    <tr>\n",
              "      <th>4</th>\n",
              "      <td>0</td>\n",
              "      <td>0</td>\n",
              "      <td>0</td>\n",
              "      <td>1</td>\n",
              "      <td>0</td>\n",
              "      <td>6000</td>\n",
              "      <td>0.0</td>\n",
              "      <td>141.000000</td>\n",
              "      <td>360.0</td>\n",
              "      <td>1</td>\n",
              "      <td>1</td>\n",
              "      <td>1</td>\n",
              "    </tr>\n",
              "  </tbody>\n",
              "</table>\n",
              "</div>"
            ],
            "text/plain": [
              "   Gender  Married  Dependents  Education  Self_Employed  ApplicantIncome  \\\n",
              "0       0        0           0          1              0             5849   \n",
              "1       0        1           2          1              0             4583   \n",
              "2       0        1           0          1              1             3000   \n",
              "3       0        1           0          0              0             2583   \n",
              "4       0        0           0          1              0             6000   \n",
              "\n",
              "   CoapplicantIncome  LoanAmount  Loan_Amount_Term  Credit_History  \\\n",
              "0                0.0  146.412162             360.0               1   \n",
              "1             1508.0  128.000000             360.0               1   \n",
              "2                0.0   66.000000             360.0               1   \n",
              "3             2358.0  120.000000             360.0               1   \n",
              "4                0.0  141.000000             360.0               1   \n",
              "\n",
              "   Property_Area  Loan_Status  \n",
              "0              1            1  \n",
              "1              0            0  \n",
              "2              1            1  \n",
              "3              1            1  \n",
              "4              1            1  "
            ]
          },
          "execution_count": 68,
          "metadata": {},
          "output_type": "execute_result"
        }
      ],
      "source": [
        "x_train['Gender']=x_train['Gender'].map({'Male':0,'Female':1})\n",
        "x_train['Married']=x_train['Married'].map({'No':0,'Yes':1})\n",
        "x_train['Dependents']=x_train['Dependents'].map({'0':0,'2':1,'1':2,\"3+\":3})\n",
        "x_train['Education']=x_train['Education'].map({'Not Graduate':0,'Graduate':1})\n",
        "x_train['Self_Employed']=x_train['Self_Employed'].map({'No':0,'Yes':1})\n",
        "x_train['Property_Area']=x_train['Property_Area'].map({'Rural':0,'Urban':1,'Semiurban':2})\n",
        "x_train['Loan_Status']=x_train['Loan_Status'].map({'Y':1,'N':0})\n",
        "x_train.head()"
      ]
    },
    {
      "cell_type": "code",
      "execution_count": null,
      "id": "fbe9aefc",
      "metadata": {
        "id": "fbe9aefc",
        "outputId": "66592b8f-018f-4042-9cb1-5c711c096f4b"
      },
      "outputs": [
        {
          "data": {
            "text/html": [
              "<div>\n",
              "<style scoped>\n",
              "    .dataframe tbody tr th:only-of-type {\n",
              "        vertical-align: middle;\n",
              "    }\n",
              "\n",
              "    .dataframe tbody tr th {\n",
              "        vertical-align: top;\n",
              "    }\n",
              "\n",
              "    .dataframe thead th {\n",
              "        text-align: right;\n",
              "    }\n",
              "</style>\n",
              "<table border=\"1\" class=\"dataframe\">\n",
              "  <thead>\n",
              "    <tr style=\"text-align: right;\">\n",
              "      <th></th>\n",
              "      <th>Gender</th>\n",
              "      <th>Married</th>\n",
              "      <th>Dependents</th>\n",
              "      <th>Education</th>\n",
              "      <th>Self_Employed</th>\n",
              "      <th>ApplicantIncome</th>\n",
              "      <th>CoapplicantIncome</th>\n",
              "      <th>LoanAmount</th>\n",
              "      <th>Loan_Amount_Term</th>\n",
              "      <th>Credit_History</th>\n",
              "      <th>Property_Area</th>\n",
              "    </tr>\n",
              "  </thead>\n",
              "  <tbody>\n",
              "    <tr>\n",
              "      <th>0</th>\n",
              "      <td>0</td>\n",
              "      <td>1</td>\n",
              "      <td>0</td>\n",
              "      <td>1</td>\n",
              "      <td>0</td>\n",
              "      <td>5720</td>\n",
              "      <td>0</td>\n",
              "      <td>110.0</td>\n",
              "      <td>360.0</td>\n",
              "      <td>1</td>\n",
              "      <td>1</td>\n",
              "    </tr>\n",
              "    <tr>\n",
              "      <th>1</th>\n",
              "      <td>0</td>\n",
              "      <td>1</td>\n",
              "      <td>2</td>\n",
              "      <td>1</td>\n",
              "      <td>0</td>\n",
              "      <td>3076</td>\n",
              "      <td>1500</td>\n",
              "      <td>126.0</td>\n",
              "      <td>360.0</td>\n",
              "      <td>1</td>\n",
              "      <td>1</td>\n",
              "    </tr>\n",
              "    <tr>\n",
              "      <th>2</th>\n",
              "      <td>0</td>\n",
              "      <td>1</td>\n",
              "      <td>1</td>\n",
              "      <td>1</td>\n",
              "      <td>0</td>\n",
              "      <td>5000</td>\n",
              "      <td>1800</td>\n",
              "      <td>208.0</td>\n",
              "      <td>360.0</td>\n",
              "      <td>1</td>\n",
              "      <td>1</td>\n",
              "    </tr>\n",
              "    <tr>\n",
              "      <th>4</th>\n",
              "      <td>0</td>\n",
              "      <td>0</td>\n",
              "      <td>0</td>\n",
              "      <td>0</td>\n",
              "      <td>0</td>\n",
              "      <td>3276</td>\n",
              "      <td>0</td>\n",
              "      <td>78.0</td>\n",
              "      <td>360.0</td>\n",
              "      <td>1</td>\n",
              "      <td>1</td>\n",
              "    </tr>\n",
              "    <tr>\n",
              "      <th>5</th>\n",
              "      <td>0</td>\n",
              "      <td>1</td>\n",
              "      <td>0</td>\n",
              "      <td>0</td>\n",
              "      <td>1</td>\n",
              "      <td>2165</td>\n",
              "      <td>3422</td>\n",
              "      <td>152.0</td>\n",
              "      <td>360.0</td>\n",
              "      <td>1</td>\n",
              "      <td>1</td>\n",
              "    </tr>\n",
              "  </tbody>\n",
              "</table>\n",
              "</div>"
            ],
            "text/plain": [
              "   Gender  Married  Dependents  Education  Self_Employed  ApplicantIncome  \\\n",
              "0       0        1           0          1              0             5720   \n",
              "1       0        1           2          1              0             3076   \n",
              "2       0        1           1          1              0             5000   \n",
              "4       0        0           0          0              0             3276   \n",
              "5       0        1           0          0              1             2165   \n",
              "\n",
              "   CoapplicantIncome  LoanAmount  Loan_Amount_Term  Credit_History  \\\n",
              "0                  0       110.0             360.0               1   \n",
              "1               1500       126.0             360.0               1   \n",
              "2               1800       208.0             360.0               1   \n",
              "4                  0        78.0             360.0               1   \n",
              "5               3422       152.0             360.0               1   \n",
              "\n",
              "   Property_Area  \n",
              "0              1  \n",
              "1              1  \n",
              "2              1  \n",
              "4              1  \n",
              "5              1  "
            ]
          },
          "execution_count": 69,
          "metadata": {},
          "output_type": "execute_result"
        }
      ],
      "source": [
        "x_test['Gender']=x_test['Gender'].map({'Male':0,'Female':1})\n",
        "x_test['Married']=x_test['Married'].map({'No':0,'Yes':1})\n",
        "x_test['Dependents']=x_test['Dependents'].map({'0':0,'2':1,'1':2,\"3+\":3})\n",
        "x_test['Education']=x_test['Education'].map({'Not Graduate':0,'Graduate':1})\n",
        "x_test['Self_Employed']=x_test['Self_Employed'].map({'No':0,'Yes':1})\n",
        "x_test['Property_Area']=x_test['Property_Area'].map({'Rural':0,'Urban':1,'Semiurban':2})\n",
        "x_test.head()"
      ]
    },
    {
      "cell_type": "code",
      "execution_count": null,
      "id": "7f0fe970",
      "metadata": {
        "id": "7f0fe970"
      },
      "outputs": [],
      "source": [
        ""
      ]
    },
    {
      "cell_type": "markdown",
      "id": "ff1d227d",
      "metadata": {
        "id": "ff1d227d"
      },
      "source": [
        "# SPLIT THE DATA"
      ]
    },
    {
      "cell_type": "code",
      "execution_count": null,
      "id": "826cad87",
      "metadata": {
        "id": "826cad87",
        "outputId": "31b367b1-ff70-445e-a28f-87bcdae1dfb2"
      },
      "outputs": [
        {
          "data": {
            "text/plain": [
              "Index(['Gender', 'Married', 'Dependents', 'Education', 'Self_Employed',\n",
              "       'ApplicantIncome', 'CoapplicantIncome', 'LoanAmount',\n",
              "       'Loan_Amount_Term', 'Credit_History', 'Property_Area', 'Loan_Status'],\n",
              "      dtype='object')"
            ]
          },
          "execution_count": 70,
          "metadata": {},
          "output_type": "execute_result"
        }
      ],
      "source": [
        "x_train.columns"
      ]
    },
    {
      "cell_type": "code",
      "execution_count": null,
      "id": "3f7c50c2",
      "metadata": {
        "id": "3f7c50c2"
      },
      "outputs": [],
      "source": [
        "X = x_train[['Gender', 'Married', 'Dependents', 'Education', 'Self_Employed',\n",
        "       'ApplicantIncome', 'CoapplicantIncome', 'LoanAmount',\n",
        "       'Loan_Amount_Term', 'Credit_History', 'Property_Area']].values\n",
        "y = x_train['Loan_Status'].values\n",
        "X_train,X_test,y_train,y_test = train_test_split(X,y,test_size=0.25,random_state=0)"
      ]
    },
    {
      "cell_type": "code",
      "execution_count": null,
      "id": "b2e5e520",
      "metadata": {
        "id": "b2e5e520",
        "outputId": "37394962-b0af-483e-e343-f58ce25a992f"
      },
      "outputs": [
        {
          "data": {
            "text/plain": [
              "array([1, 0, 0, 1, 1, 0, 1, 1, 1, 1, 1, 0, 1, 1, 0, 1, 1, 1, 0, 1, 1, 0,\n",
              "       0, 1, 1, 0, 1, 0, 0, 0, 1, 0, 1, 1, 1, 1, 1, 1, 1, 1, 1, 0, 0, 1,\n",
              "       1, 1, 1, 1, 1, 1, 1, 1, 1, 1, 1, 1, 1, 1, 1, 1, 0, 0, 1, 1, 1, 1,\n",
              "       1, 0, 1, 1, 0, 1, 1, 1, 1, 1, 1, 0, 0, 1, 1, 1, 1, 1, 1, 0, 1, 0,\n",
              "       1, 1, 1, 0, 1, 0, 0, 0, 0, 1, 1, 1, 1, 0, 0, 1, 0, 1, 0, 0, 1, 0,\n",
              "       1, 0, 1, 0, 1, 1, 0, 0, 0, 1, 1, 1, 1, 0, 1, 1, 1, 0, 1, 1, 1, 1,\n",
              "       1, 1, 0, 1, 1, 1, 1, 1, 1, 1, 1, 1, 0, 1, 1, 1, 1, 0, 1, 1, 1, 1,\n",
              "       0, 1, 1, 0, 0, 1, 1, 0, 1, 1, 1, 1, 0, 1, 1, 0, 1, 1, 1, 1, 0, 1,\n",
              "       0, 0, 0, 0, 0, 1, 0, 0, 0, 1, 0, 1, 1, 1, 1, 1, 1, 1, 1, 1, 0, 1,\n",
              "       0, 0, 1, 1, 1, 0, 0, 1, 0, 1, 0, 1, 0, 1, 1, 1, 1, 0, 0, 0, 0, 0,\n",
              "       1, 1, 0, 1, 1, 1, 1, 1, 1, 1, 0, 1, 1, 1, 1, 1, 0, 1, 1, 1, 0, 1,\n",
              "       1, 0, 1, 0, 1, 1, 0, 0, 1, 0, 1, 1, 0, 0, 1, 0, 0, 1, 1, 1, 1, 1,\n",
              "       0, 1, 1, 0, 1, 0, 1, 1, 1, 1, 1, 0, 0, 1, 1, 0, 1, 0, 1, 1, 1, 0,\n",
              "       0, 1, 1, 1, 1, 1, 0, 0, 1, 0, 0, 1, 1, 1, 0, 0, 0, 1, 1, 1, 1, 1,\n",
              "       1, 1, 0, 1, 0, 0, 1, 1, 0, 0, 0, 1, 0, 0, 1, 0, 1, 1, 0, 1, 1, 1,\n",
              "       1, 1, 1, 1, 1, 0, 1, 0, 0, 1, 0, 0, 0, 1, 1, 1, 1, 1, 1, 1, 1, 0,\n",
              "       1, 1, 1, 0, 1, 0, 0, 1, 1, 0, 1, 1, 1, 0, 1, 1, 0, 1, 1, 1, 0, 1,\n",
              "       1, 1, 1, 0, 0, 1, 1, 1, 1, 1, 0, 0, 1, 0, 1, 0, 0, 1], dtype=int64)"
            ]
          },
          "execution_count": 110,
          "metadata": {},
          "output_type": "execute_result"
        }
      ],
      "source": [
        "y_train"
      ]
    },
    {
      "cell_type": "markdown",
      "id": "9d93eb49",
      "metadata": {
        "id": "9d93eb49"
      },
      "source": [
        "# MODEL"
      ]
    },
    {
      "cell_type": "code",
      "execution_count": null,
      "id": "425524fc",
      "metadata": {
        "id": "425524fc",
        "outputId": "6ee1aea9-b9bc-4cba-c81a-0ddeb0921f5c"
      },
      "outputs": [
        {
          "data": {
            "text/plain": [
              "array([0, 1, 1, 1, 1, 1, 1, 1, 1, 1, 1, 0, 1, 1, 1, 1, 1, 1, 1, 1, 0, 1,\n",
              "       0, 1, 1, 1, 1, 1, 1, 1, 1, 1, 1, 1, 1, 1, 1, 1, 1, 1, 1, 1, 1, 1,\n",
              "       1, 1, 1, 1, 1, 1, 1, 1, 1, 1, 1, 1, 1, 1, 1, 1, 1, 0, 1, 1, 1, 0,\n",
              "       1, 1, 1, 1, 1, 1, 1, 0, 0, 0, 1, 1, 1, 1, 1, 1, 1, 1, 1, 1, 1, 1,\n",
              "       1, 1, 1, 1, 1, 1, 1, 1, 0, 0, 1, 1, 1, 1, 1, 0, 1, 1, 0, 1, 1, 1,\n",
              "       1, 1, 1, 1, 1, 1, 1, 1, 1, 1, 0, 1, 1, 1, 1, 1, 0, 1, 1, 1, 1],\n",
              "      dtype=int64)"
            ]
          },
          "execution_count": 111,
          "metadata": {},
          "output_type": "execute_result"
        }
      ],
      "source": [
        "logistic_regression= LogisticRegression()\n",
        "logistic_regression.fit(X_train,y_train) \n",
        "y_pred=logistic_regression.predict(X_test)\n",
        "\n",
        "y_pred"
      ]
    },
    {
      "cell_type": "code",
      "execution_count": null,
      "id": "e6f04965",
      "metadata": {
        "id": "e6f04965",
        "outputId": "8d079d8e-5f51-4211-fd75-c896cda9877d"
      },
      "outputs": [
        {
          "data": {
            "text/plain": [
              "array([[-3.21698383e-01,  5.85009282e-01, -2.83756621e-01,\n",
              "         3.43645997e-01,  1.61227716e-01,  1.47310365e-05,\n",
              "        -4.64371438e-05, -3.09890183e-03, -4.87893366e-03,\n",
              "         2.70810638e+00,  2.67863417e-01]])"
            ]
          },
          "execution_count": 143,
          "metadata": {},
          "output_type": "execute_result"
        }
      ],
      "source": [
        "a=logistic_regression.coef_\n",
        "a"
      ]
    },
    {
      "cell_type": "code",
      "execution_count": null,
      "id": "777fefa2",
      "metadata": {
        "id": "777fefa2",
        "outputId": "22f0c23b-4619-4e49-f9c6-df6daff64adc"
      },
      "outputs": [
        {
          "data": {
            "text/html": [
              "<div>\n",
              "<style scoped>\n",
              "    .dataframe tbody tr th:only-of-type {\n",
              "        vertical-align: middle;\n",
              "    }\n",
              "\n",
              "    .dataframe tbody tr th {\n",
              "        vertical-align: top;\n",
              "    }\n",
              "\n",
              "    .dataframe thead th {\n",
              "        text-align: right;\n",
              "    }\n",
              "</style>\n",
              "<table border=\"1\" class=\"dataframe\">\n",
              "  <thead>\n",
              "    <tr style=\"text-align: right;\">\n",
              "      <th></th>\n",
              "      <th>Coefficient</th>\n",
              "    </tr>\n",
              "  </thead>\n",
              "  <tbody>\n",
              "    <tr>\n",
              "      <th>Gender</th>\n",
              "      <td>-0.321698</td>\n",
              "    </tr>\n",
              "    <tr>\n",
              "      <th>Married</th>\n",
              "      <td>0.585009</td>\n",
              "    </tr>\n",
              "    <tr>\n",
              "      <th>Dependents</th>\n",
              "      <td>-0.283757</td>\n",
              "    </tr>\n",
              "    <tr>\n",
              "      <th>Education</th>\n",
              "      <td>0.343646</td>\n",
              "    </tr>\n",
              "    <tr>\n",
              "      <th>Self_Employed</th>\n",
              "      <td>0.161228</td>\n",
              "    </tr>\n",
              "    <tr>\n",
              "      <th>ApplicantIncome</th>\n",
              "      <td>0.000015</td>\n",
              "    </tr>\n",
              "    <tr>\n",
              "      <th>CoapplicantIncome</th>\n",
              "      <td>-0.000046</td>\n",
              "    </tr>\n",
              "    <tr>\n",
              "      <th>LoanAmount</th>\n",
              "      <td>-0.003099</td>\n",
              "    </tr>\n",
              "    <tr>\n",
              "      <th>Loan_Amount_Term</th>\n",
              "      <td>-0.004879</td>\n",
              "    </tr>\n",
              "    <tr>\n",
              "      <th>Credit_History</th>\n",
              "      <td>2.708106</td>\n",
              "    </tr>\n",
              "    <tr>\n",
              "      <th>Property_Area</th>\n",
              "      <td>0.267863</td>\n",
              "    </tr>\n",
              "  </tbody>\n",
              "</table>\n",
              "</div>"
            ],
            "text/plain": [
              "                   Coefficient\n",
              "Gender               -0.321698\n",
              "Married               0.585009\n",
              "Dependents           -0.283757\n",
              "Education             0.343646\n",
              "Self_Employed         0.161228\n",
              "ApplicantIncome       0.000015\n",
              "CoapplicantIncome    -0.000046\n",
              "LoanAmount           -0.003099\n",
              "Loan_Amount_Term     -0.004879\n",
              "Credit_History        2.708106\n",
              "Property_Area         0.267863"
            ]
          },
          "execution_count": 145,
          "metadata": {},
          "output_type": "execute_result"
        }
      ],
      "source": [
        "data={'Coefficient':[-3.21698383e-01,  5.85009282e-01, -2.83756621e-01,\n",
        "         3.43645997e-01,  1.61227716e-01,  1.47310365e-05,\n",
        "        -4.64371438e-05, -3.09890183e-03, -4.87893366e-03,\n",
        "         2.70810638e+00,  2.67863417e-01]}\n",
        "coeff_df = pd.DataFrame(data=data,index=['Gender', 'Married', 'Dependents', 'Education', 'Self_Employed','ApplicantIncome', 'CoapplicantIncome', \n",
        "         'LoanAmount','Loan_Amount_Term', 'Credit_History', 'Property_Area'])\n",
        "coeff_df"
      ]
    },
    {
      "cell_type": "code",
      "execution_count": null,
      "id": "f4142a8e",
      "metadata": {
        "id": "f4142a8e",
        "outputId": "6bf5c17a-d9ad-4bfc-8187-059a0f7cab9f"
      },
      "outputs": [
        {
          "data": {
            "text/plain": [
              "array([0.00303979])"
            ]
          },
          "execution_count": 113,
          "metadata": {},
          "output_type": "execute_result"
        }
      ],
      "source": [
        "logistic_regression.intercept_"
      ]
    },
    {
      "cell_type": "markdown",
      "id": "65023e86",
      "metadata": {
        "id": "65023e86"
      },
      "source": [
        "## TOP 5 IMPORTANT FEATURES\n",
        "1. Credit history\n",
        "2. Married\n",
        "3. Education\n",
        "4. Property area\n",
        "5. Self employed"
      ]
    },
    {
      "cell_type": "markdown",
      "id": "a0aee88e",
      "metadata": {
        "id": "a0aee88e"
      },
      "source": [
        "### Equation\n",
        "**y= 1/ (1+ e^-mx-c)**\n",
        "\n",
        "\n",
        "**Loan_status**\n",
        "    =1/(1+e^(-(-0.321698383)*Gender - 0.585009282*Married - (-0.283756621)*Dependents   \n",
        "    -0.343645997*(Education) - 0.161227716*Self_employed -0.147310365*Applicantincome\n",
        "    -(-0.464371438)*coapplicantincome -(-0.309890183)*loanamount\n",
        "    -(-4.87893366)*loanamountterm \n",
        "    -(2.70810638)*credit_history -0.267863417property_area - (0.00303979)))"
      ]
    },
    {
      "cell_type": "code",
      "execution_count": null,
      "id": "c589ac55",
      "metadata": {
        "id": "c589ac55",
        "outputId": "66e98c87-25b5-4336-9c7a-7dc6cdeddfd7"
      },
      "outputs": [
        {
          "data": {
            "text/html": [
              "<div>\n",
              "<style scoped>\n",
              "    .dataframe tbody tr th:only-of-type {\n",
              "        vertical-align: middle;\n",
              "    }\n",
              "\n",
              "    .dataframe tbody tr th {\n",
              "        vertical-align: top;\n",
              "    }\n",
              "\n",
              "    .dataframe thead th {\n",
              "        text-align: right;\n",
              "    }\n",
              "</style>\n",
              "<table border=\"1\" class=\"dataframe\">\n",
              "  <thead>\n",
              "    <tr style=\"text-align: right;\">\n",
              "      <th></th>\n",
              "      <th>Actual</th>\n",
              "      <th>Predicted</th>\n",
              "    </tr>\n",
              "  </thead>\n",
              "  <tbody>\n",
              "    <tr>\n",
              "      <th>0</th>\n",
              "      <td>0</td>\n",
              "      <td>0</td>\n",
              "    </tr>\n",
              "    <tr>\n",
              "      <th>1</th>\n",
              "      <td>1</td>\n",
              "      <td>1</td>\n",
              "    </tr>\n",
              "    <tr>\n",
              "      <th>2</th>\n",
              "      <td>1</td>\n",
              "      <td>1</td>\n",
              "    </tr>\n",
              "    <tr>\n",
              "      <th>3</th>\n",
              "      <td>0</td>\n",
              "      <td>1</td>\n",
              "    </tr>\n",
              "    <tr>\n",
              "      <th>4</th>\n",
              "      <td>1</td>\n",
              "      <td>1</td>\n",
              "    </tr>\n",
              "    <tr>\n",
              "      <th>...</th>\n",
              "      <td>...</td>\n",
              "      <td>...</td>\n",
              "    </tr>\n",
              "    <tr>\n",
              "      <th>126</th>\n",
              "      <td>0</td>\n",
              "      <td>0</td>\n",
              "    </tr>\n",
              "    <tr>\n",
              "      <th>127</th>\n",
              "      <td>1</td>\n",
              "      <td>1</td>\n",
              "    </tr>\n",
              "    <tr>\n",
              "      <th>128</th>\n",
              "      <td>1</td>\n",
              "      <td>1</td>\n",
              "    </tr>\n",
              "    <tr>\n",
              "      <th>129</th>\n",
              "      <td>1</td>\n",
              "      <td>1</td>\n",
              "    </tr>\n",
              "    <tr>\n",
              "      <th>130</th>\n",
              "      <td>1</td>\n",
              "      <td>1</td>\n",
              "    </tr>\n",
              "  </tbody>\n",
              "</table>\n",
              "<p>131 rows × 2 columns</p>\n",
              "</div>"
            ],
            "text/plain": [
              "     Actual  Predicted\n",
              "0         0          0\n",
              "1         1          1\n",
              "2         1          1\n",
              "3         0          1\n",
              "4         1          1\n",
              "..      ...        ...\n",
              "126       0          0\n",
              "127       1          1\n",
              "128       1          1\n",
              "129       1          1\n",
              "130       1          1\n",
              "\n",
              "[131 rows x 2 columns]"
            ]
          },
          "execution_count": 92,
          "metadata": {},
          "output_type": "execute_result"
        }
      ],
      "source": [
        "y_test=y_test\n",
        "y_pred = logistic_regression.predict(X_test)\n",
        "df = pd.DataFrame({'Actual': y_test, 'Predicted': y_pred})\n",
        "df"
      ]
    },
    {
      "cell_type": "code",
      "execution_count": null,
      "id": "7cbee07d",
      "metadata": {
        "id": "7cbee07d",
        "outputId": "779427ed-68c5-4b7f-e48d-d8946dd23c33"
      },
      "outputs": [
        {
          "data": {
            "text/plain": [
              "<AxesSubplot:xlabel='Predicted', ylabel='Actual'>"
            ]
          },
          "execution_count": 82,
          "metadata": {},
          "output_type": "execute_result"
        },
        {
          "data": {
            "image/png": "[encoded data removed]",
            "text/plain": [
              "<Figure size 432x288 with 2 Axes>"
            ]
          },
          "metadata": {
            "needs_background": "light"
          },
          "output_type": "display_data"
        }
      ],
      "source": [
        "confusion_matrix = pd.crosstab(y_test, y_pred, rownames=['Actual'], colnames=['Predicted'])\n",
        "sns.heatmap(confusion_matrix, annot=True)"
      ]
    },
    {
      "cell_type": "markdown",
      "id": "37e6c51f",
      "metadata": {
        "id": "37e6c51f"
      },
      "source": [
        "# EVALUATION METRIC"
      ]
    },
    {
      "cell_type": "code",
      "execution_count": null,
      "id": "4944794d",
      "metadata": {
        "id": "4944794d",
        "outputId": "1ebd6578-5e24-4521-cd0b-be452a071772"
      },
      "outputs": [
        {
          "data": {
            "text/plain": [
              "0.8909952606635071"
            ]
          },
          "execution_count": 86,
          "metadata": {},
          "output_type": "execute_result"
        }
      ],
      "source": [
        "f1_score(y_test,y_pred)"
      ]
    },
    {
      "cell_type": "code",
      "execution_count": null,
      "id": "69f3ddad",
      "metadata": {
        "id": "69f3ddad",
        "outputId": "389a8613-9479-4cfa-8ead-2c8b4868fec7"
      },
      "outputs": [
        {
          "data": {
            "text/plain": [
              "<sklearn.metrics._plot.roc_curve.RocCurveDisplay at 0x1cb1877ec10>"
            ]
          },
          "execution_count": 87,
          "metadata": {},
          "output_type": "execute_result"
        },
        {
          "data": {
            "image/png": "[encoded data removed]",
            "text/plain": [
              "<Figure size 432x288 with 1 Axes>"
            ]
          },
          "metadata": {
            "needs_background": "light"
          },
          "output_type": "display_data"
        }
      ],
      "source": [
        "plot_roc_curve(logistic_regression, X_test, y_test)"
      ]
    },
    {
      "cell_type": "markdown",
      "id": "9bd20732",
      "metadata": {
        "id": "9bd20732"
      },
      "source": [
        "##  USING X_TEST"
      ]
    },
    {
      "cell_type": "code",
      "execution_count": null,
      "id": "1aced68a",
      "metadata": {
        "id": "1aced68a",
        "outputId": "0fdc930b-2f12-402c-9efc-eefcda575351"
      },
      "outputs": [
        {
          "data": {
            "text/plain": [
              "0      1\n",
              "1      1\n",
              "2      1\n",
              "3      1\n",
              "4      1\n",
              "      ..\n",
              "302    1\n",
              "303    1\n",
              "304    1\n",
              "305    1\n",
              "306    1\n",
              "Name: loan_status, Length: 307, dtype: int64"
            ]
          },
          "execution_count": 97,
          "metadata": {},
          "output_type": "execute_result"
        }
      ],
      "source": [
        "y_pred = logistic_regression.predict(x_test)\n",
        "df['loan_status'] = pd.DataFrame({'Predicted': y_pred})\n",
        "df['loan_status']"
      ]
    },
    {
      "cell_type": "code",
      "execution_count": null,
      "id": "79b83a55",
      "metadata": {
        "id": "79b83a55",
        "outputId": "75b35f74-f193-48c1-c38d-90c7c75c3156"
      },
      "outputs": [
        {
          "data": {
            "text/plain": [
              "50"
            ]
          },
          "execution_count": 106,
          "metadata": {},
          "output_type": "execute_result"
        }
      ],
      "source": [
        "df['loan_status'].unique()\n",
        "len(df['loan_status'])-df['loan_status'].sum()"
      ]
    },
    {
      "cell_type": "code",
      "execution_count": null,
      "id": "77501ffe",
      "metadata": {
        "id": "77501ffe"
      },
      "outputs": [],
      "source": [
        ""
      ]
    },
    {
      "cell_type": "code",
      "execution_count": null,
      "id": "bbe92f8e",
      "metadata": {
        "id": "bbe92f8e"
      },
      "outputs": [],
      "source": [
        ""
      ]
    },
    {
      "cell_type": "markdown",
      "id": "66cc45e9",
      "metadata": {
        "id": "66cc45e9"
      },
      "source": [
        "# CONCLUSION"
      ]
    },
    {
      "cell_type": "raw",
      "id": "11c64b95",
      "metadata": {
        "id": "11c64b95"
      },
      "source": [
        "From our Logistic Regression model, we came to know credit history is the top most important feature.\n",
        "  \n",
        "    The Logistic regression f1-score is 0.8909\n",
        "  \n",
        "    The Logistic regression AUROC score is 0.75\n",
        "\n",
        "The loan is mostly approved for the person who have good credit history,graduated,married,non-selfemployed one and the property area in semiurban.\n",
        "\n",
        "From our observation the above mentioned people can easily get loan from the bank."
      ]
    },
    {
      "cell_type": "markdown",
      "source": [
        "                          --------------- THE END ---------------"
      ],
      "metadata": {
        "id": "TabmE-iDVeK7"
      },
      "id": "TabmE-iDVeK7"
    },
    {
      "cell_type": "code",
      "execution_count": null,
      "id": "9a6d2f9d",
      "metadata": {
        "id": "9a6d2f9d"
      },
      "outputs": [],
      "source": [
        ""
      ]
    }
  ],
  "metadata": {
    "kernelspec": {
      "display_name": "Python 3 (ipykernel)",
      "language": "python",
      "name": "python3"
    },
    "language_info": {
      "codemirror_mode": {
        "name": "ipython",
        "version": 3
      },
      "file_extension": ".py",
      "mimetype": "text/x-python",
      "name": "python",
      "nbconvert_exporter": "python",
      "pygments_lexer": "ipython3",
      "version": "3.9.7"
    },
    "colab": {
      "name": "loan_status_predict.ipynb",
      "provenance": [],
      "include_colab_link": true
    }
  },
  "nbformat": 4,
  "nbformat_minor": 5
}